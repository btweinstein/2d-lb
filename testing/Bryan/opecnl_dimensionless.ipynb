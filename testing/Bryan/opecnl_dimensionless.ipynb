{
 "cells": [
  {
   "cell_type": "code",
   "execution_count": 2,
   "metadata": {
    "collapsed": false
   },
   "outputs": [
    {
     "name": "stdout",
     "output_type": "stream",
     "text": [
      "Populating the interactive namespace from numpy and matplotlib\n"
     ]
    }
   ],
   "source": [
    "%pylab inline"
   ]
  },
  {
   "cell_type": "code",
   "execution_count": 3,
   "metadata": {
    "collapsed": true
   },
   "outputs": [],
   "source": [
    "import seaborn as sns\n",
    "sns.set_context('poster', font_scale=1.25)"
   ]
  },
  {
   "cell_type": "code",
   "execution_count": 4,
   "metadata": {
    "collapsed": true
   },
   "outputs": [],
   "source": [
    "%load_ext autoreload\n",
    "%autoreload 2"
   ]
  },
  {
   "cell_type": "code",
   "execution_count": 5,
   "metadata": {
    "collapsed": true
   },
   "outputs": [],
   "source": [
    "from LB_D2Q9 import pipe_cython as lb\n",
    "from LB_D2Q9 import pipe_opencl as lb_cl"
   ]
  },
  {
   "cell_type": "markdown",
   "metadata": {},
   "source": [
    "Let's setup the simulation parameters. See what our non-dimensional numbers are."
   ]
  },
  {
   "cell_type": "code",
   "execution_count": 24,
   "metadata": {
    "collapsed": false
   },
   "outputs": [
    {
     "name": "stdout",
     "output_type": "stream",
     "text": [
      "Re: 6.25e+01\n"
     ]
    }
   ],
   "source": [
    "D = 10.**-2 # meter\n",
    "rho = 1000 # kg/m^3\n",
    "nu = 10.**-6. # Viscosity, m^2/s\n",
    "\n",
    "pressure_grad = -1 # Pa/m\n",
    "\n",
    "pipe_length = 5 # meter\n",
    "\n",
    "# Create characteristic length and time scale\n",
    "\n",
    "L = D\n",
    "T = (16*rho*nu)/(np.abs(pressure_grad)*D)\n",
    "\n",
    "# Get the reynolds number\n",
    "Re = L**2/(nu*T)\n",
    "\n",
    "print 'Re:' , '%.2e' % Re\n",
    "\n",
    "# Get the pressure drop\n",
    "deltaP = pipe_length * pressure_grad\n",
    "\n",
    "# Dimensionless deltaP\n",
    "\n",
    "dim_deltaP = (T**2/(rho*L**2))*deltaP"
   ]
  },
  {
   "cell_type": "code",
   "execution_count": 31,
   "metadata": {
    "collapsed": false
   },
   "outputs": [
    {
     "data": {
      "text/plain": [
       "-128.00000000000003"
      ]
     },
     "execution_count": 31,
     "metadata": {},
     "output_type": "execute_result"
    }
   ],
   "source": [
    "dim_deltaP"
   ]
  },
  {
   "cell_type": "markdown",
   "metadata": {},
   "source": [
    "Ok. That is obviously not good. We now need to convert to LB units."
   ]
  },
  {
   "cell_type": "code",
   "execution_count": 50,
   "metadata": {
    "collapsed": true
   },
   "outputs": [],
   "source": [
    "delta_x = 1./200\n",
    "delta_t = delta_x**2\n",
    "cs = 1./np.sqrt(3)"
   ]
  },
  {
   "cell_type": "code",
   "execution_count": 55,
   "metadata": {
    "collapsed": false
   },
   "outputs": [
    {
     "name": "stdout",
     "output_type": "stream",
     "text": [
      "delta_rho: -0.0096\n",
      "nu: 4e-07\n"
     ]
    }
   ],
   "source": [
    "delta_rho = (dim_deltaP/cs**2)*(delta_t**2)/(delta_x**2)\n",
    "print 'delta_rho:' , delta_rho\n",
    "\n",
    "nu_lb = (delta_t/delta_x)**2*(1./Re)\n",
    "print 'nu:' , nu_lb"
   ]
  },
  {
   "cell_type": "code",
   "execution_count": null,
   "metadata": {
    "collapsed": true
   },
   "outputs": [],
   "source": []
  }
 ],
 "metadata": {
  "kernelspec": {
   "display_name": "Python 2",
   "language": "python",
   "name": "python2"
  },
  "language_info": {
   "codemirror_mode": {
    "name": "ipython",
    "version": 2
   },
   "file_extension": ".py",
   "mimetype": "text/x-python",
   "name": "python",
   "nbconvert_exporter": "python",
   "pygments_lexer": "ipython2",
   "version": "2.7.10"
  }
 },
 "nbformat": 4,
 "nbformat_minor": 0
}
