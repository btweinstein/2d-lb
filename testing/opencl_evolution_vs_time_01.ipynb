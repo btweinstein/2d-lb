{
 "cells": [
  {
   "cell_type": "code",
   "execution_count": 1,
   "metadata": {
    "collapsed": false
   },
   "outputs": [
    {
     "name": "stdout",
     "output_type": "stream",
     "text": [
      "Populating the interactive namespace from numpy and matplotlib\n"
     ]
    }
   ],
   "source": [
    "%pylab inline"
   ]
  },
  {
   "cell_type": "code",
   "execution_count": 2,
   "metadata": {
    "collapsed": true
   },
   "outputs": [],
   "source": [
    "import seaborn as sns"
   ]
  },
  {
   "cell_type": "code",
   "execution_count": 3,
   "metadata": {
    "collapsed": true
   },
   "outputs": [],
   "source": [
    "sns.set_context('poster', font_scale=1.25)"
   ]
  },
  {
   "cell_type": "code",
   "execution_count": 4,
   "metadata": {
    "collapsed": false
   },
   "outputs": [],
   "source": [
    "%load_ext autoreload\n",
    "%autoreload 2"
   ]
  },
  {
   "cell_type": "code",
   "execution_count": 5,
   "metadata": {
    "collapsed": false
   },
   "outputs": [],
   "source": [
    "from LB_D2Q9 import pipe_cython as lb\n",
    "from LB_D2Q9 import pipe_opencl as lb_cl"
   ]
  },
  {
   "cell_type": "markdown",
   "metadata": {},
   "source": [
    "We now want to visualize the evolution of the flow...let's see how it goes..."
   ]
  },
  {
   "cell_type": "code",
   "execution_count": 6,
   "metadata": {
    "collapsed": true
   },
   "outputs": [],
   "source": [
    "from IPython import display"
   ]
  },
  {
   "cell_type": "markdown",
   "metadata": {},
   "source": [
    "It's probably easier to specify dt and dr and the dimensions. Then get everything else from that...yeah. That way the velocity is on the scale of U ~ 0.1 or so."
   ]
  },
  {
   "cell_type": "code",
   "execution_count": 11,
   "metadata": {
    "collapsed": false
   },
   "outputs": [
    {
     "name": "stdout",
     "output_type": "stream",
     "text": [
      "Desired viscosity: 0.001\n",
      "\n",
      "###### Simulation Parameters #########\n",
      "\n",
      "ly 100\n",
      "lx 400\n",
      "omega: 0.98\n"
     ]
    }
   ],
   "source": [
    "#### Input to the simulation in SI. ######\n",
    "diameter = 1. # meters\n",
    "length = 4. # meters\n",
    "\n",
    "deltaP = -0.01\n",
    "\n",
    "dr = 0.01\n",
    "dt = .016\n",
    "\n",
    "viscosity = 10.**-3. # More viscous = easier to simulate!\n",
    "\n",
    "##### Derived parameters ######\n",
    "print 'Desired viscosity:' , viscosity\n",
    "#Re = (input_velocity * diameter)/viscosity\n",
    "#print 'Desired Re', Re\n",
    "\n",
    "# Re is set by diameter, input_velocity, and viscosity\n",
    "# Adjust dr so that mach number doers not explode!\n",
    "print\n",
    "print '###### Simulation Parameters #########'\n",
    "print\n",
    "\n",
    "# Solve for the desired omega...make sure it's in the correct range.\n",
    "\n",
    "\n",
    "ly = int(np.ceil(diameter/dr))\n",
    "lx = int(np.ceil(length/dr))\n",
    "print 'ly', ly\n",
    "print 'lx', lx\n",
    "\n",
    "omega = .5 + (3*dt*viscosity)/(dr**2)\n",
    "\n",
    "print 'omega:' , omega\n",
    "\n",
    "assert (omega > 0.5) and (omega < 1)\n",
    "\n",
    "# U should be on the order of 0.1, 0.2 in the simulation!\n",
    "#print 'u_max in simulation:' , np.max(sim.u)"
   ]
  },
  {
   "cell_type": "code",
   "execution_count": 12,
   "metadata": {
    "collapsed": false
   },
   "outputs": [
    {
     "data": {
      "text/plain": [
       "725409"
      ]
     },
     "execution_count": 12,
     "metadata": {},
     "output_type": "execute_result"
    }
   ],
   "source": [
    "nx*ny*9"
   ]
  },
  {
   "cell_type": "code",
   "execution_count": 13,
   "metadata": {
    "collapsed": true
   },
   "outputs": [],
   "source": [
    "import skimage as ski\n",
    "import skimage.draw"
   ]
  },
  {
   "cell_type": "code",
   "execution_count": 14,
   "metadata": {
    "collapsed": true
   },
   "outputs": [],
   "source": [
    "import sys"
   ]
  },
  {
   "cell_type": "code",
   "execution_count": 15,
   "metadata": {
    "collapsed": false
   },
   "outputs": [
    {
     "name": "stdout",
     "output_type": "stream",
     "text": [
      "The platforms detected are:\n",
      "---------------------------\n",
      "Intel(R) OpenCL Intel(R) Corporation version: OpenCL 1.2 LINUX\n",
      "The devices detected on platform Intel(R) OpenCL are:\n",
      "---------------------------\n",
      "       Intel(R) Core(TM) i7-3537U CPU @ 2.00GHz [Type: CPU ]\n",
      "Maximum clock Frequency: 2000 MHz\n",
      "Maximum allocable memory size: 2062 MB\n",
      "Maximum work group size 8192\n",
      "Maximum work item dimensions 3\n",
      "Maximum work item size [8192, 8192, 8192]\n",
      "---------------------------\n",
      "This context is associated with  1 devices\n"
     ]
    },
    {
     "name": "stderr",
     "output_type": "stream",
     "text": [
      "/home/bryan/anaconda/lib/python2.7/site-packages/pyopencl/__init__.py:59: CompilerWarning: Built kernel retrieved from cache. Original from-source build had warnings:\n",
      "Build on <pyopencl.Device 'Intel(R) Core(TM) i7-3537U CPU @ 2.00GHz' on 'Intel(R) OpenCL' at 0x31b0808> succeeded, but said:\n",
      "\n",
      "Compilation started\n",
      "Compilation done\n",
      "Linking started\n",
      "Linking done\n",
      "Device build started\n",
      "Device build done\n",
      "Kernel <update_feq> was successfully vectorized (8)\n",
      "Kernel <update_hydro> was successfully vectorized (4)\n",
      "Kernel <collide_particles> was successfully vectorized (4)\n",
      "Kernel <copy_buffer> was successfully vectorized (4)\n",
      "Kernel <move> was successfully vectorized (4)\n",
      "Kernel <move_bcs> was successfully vectorized (4)\n",
      "Done.\n",
      "  warn(text, CompilerWarning)\n",
      "/home/bryan/anaconda/lib/python2.7/site-packages/pyopencl/__init__.py:59: CompilerWarning: From-binary build succeeded, but resulted in non-empty logs:\n",
      "Build on <pyopencl.Device 'Intel(R) Core(TM) i7-3537U CPU @ 2.00GHz' on 'Intel(R) OpenCL' at 0x31b0808> succeeded, but said:\n",
      "\n",
      "Device build started\n",
      "Device build done\n",
      "Reload Program Binary Object.\n",
      "  warn(text, CompilerWarning)\n"
     ]
    }
   ],
   "source": [
    "sim = lb_cl.Pipe_Flow(lx=lx, ly=ly, dr=dr, dt=dt, omega=omega,\n",
    "                  deltaP = deltaP)"
   ]
  },
  {
   "cell_type": "code",
   "execution_count": null,
   "metadata": {
    "collapsed": false,
    "scrolled": false
   },
   "outputs": [
    {
     "data": {
      "image/png": "[encoded data removed]",
      "text/plain": [
       "<matplotlib.figure.Figure at 0x7f29e024c3d0>"
      ]
     },
     "metadata": {},
     "output_type": "display_data"
    },
    {
     "name": "stdout",
     "output_type": "stream",
     "text": [
      "max non_dim u: 0.00100148\n",
      "sum of mass 0.985033548554\n"
     ]
    }
   ],
   "source": [
    "total_num_steps = 200\n",
    "steps_per_image= 1\n",
    "\n",
    "num_to_record = int(np.ceil(float(total_num_steps)/steps_per_image))\n",
    "\n",
    "plt.figure()\n",
    "for i in range(num_to_record):\n",
    "    \n",
    "    fields = sim.get_fields_on_cpu()\n",
    "    u = fields['u']\n",
    "    v = fields['v']\n",
    "    mag = np.sqrt(u**2 + v**2)\n",
    "    rho = fields['rho']\n",
    "    \n",
    "    print 'max non_dim u:', np.max(u)\n",
    "    print 'sum of mass' , np.sum(rho)/(sim.nx*sim.ny)\n",
    "    plt.imshow(mag.T, cmap = cm.coolwarm)\n",
    "    plt.grid(False)\n",
    "    #plt.clim(vmin=0, vmax=1.)\n",
    "    #if i == 0:\n",
    "    #    plt.colorbar()\n",
    "    display.clear_output(wait=True)\n",
    "    display.display(plt.gcf())\n",
    "    \n",
    "    sim.run(steps_per_image)\n",
    "plt.clf() # This way a second figure does not appear at the end..."
   ]
  },
  {
   "cell_type": "code",
   "execution_count": 35,
   "metadata": {
    "collapsed": false
   },
   "outputs": [
    {
     "data": {
      "text/plain": [
       "[<matplotlib.lines.Line2D at 0x7fc030342e90>]"
      ]
     },
     "execution_count": 35,
     "metadata": {},
     "output_type": "execute_result"
    },
    {
     "data": {
      "image/png": "[encoded data removed]",
      "text/plain": [
       "<matplotlib.figure.Figure at 0x7fc02502a950>"
      ]
     },
     "metadata": {},
     "output_type": "display_data"
    }
   ],
   "source": [
    "plt.plot(u[300, :])"
   ]
  },
  {
   "cell_type": "markdown",
   "metadata": {},
   "source": [
    "Ok this looks good. Excellent. Seemed to take a long time to converge...hopefully that's ok. At least we have something working as a baseline."
   ]
  },
  {
   "cell_type": "markdown",
   "metadata": {},
   "source": [
    "IDK how to convert...but let's just fit."
   ]
  },
  {
   "cell_type": "code",
   "execution_count": null,
   "metadata": {
    "collapsed": false
   },
   "outputs": [],
   "source": [
    "plt.semilogy(Ma_list, ls='-', marker='.')"
   ]
  },
  {
   "cell_type": "markdown",
   "metadata": {},
   "source": [
    "Nope, it's fucked! lol."
   ]
  },
  {
   "cell_type": "code",
   "execution_count": null,
   "metadata": {
    "collapsed": false
   },
   "outputs": [],
   "source": [
    "plt.semilogy(Re_list, ls='-', marker='.')"
   ]
  },
  {
   "cell_type": "markdown",
   "metadata": {},
   "source": [
    "Looks like it still hasn't converged. But, as expected, larger pressure differences leads to larger reynolds numbers!"
   ]
  }
 ],
 "metadata": {
  "kernelspec": {
   "display_name": "Python 2",
   "language": "python",
   "name": "python2"
  },
  "language_info": {
   "codemirror_mode": {
    "name": "ipython",
    "version": 2
   },
   "file_extension": ".py",
   "mimetype": "text/x-python",
   "name": "python",
   "nbconvert_exporter": "python",
   "pygments_lexer": "ipython2",
   "version": "2.7.10"
  }
 },
 "nbformat": 4,
 "nbformat_minor": 0
}
