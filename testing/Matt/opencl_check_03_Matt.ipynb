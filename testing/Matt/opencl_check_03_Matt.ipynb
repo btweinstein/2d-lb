{
 "cells": [
  {
   "cell_type": "code",
   "execution_count": 1,
   "metadata": {
    "collapsed": false
   },
   "outputs": [
    {
     "name": "stdout",
     "output_type": "stream",
     "text": [
      "Populating the interactive namespace from numpy and matplotlib\n"
     ]
    }
   ],
   "source": [
    "%pylab inline"
   ]
  },
  {
   "cell_type": "code",
   "execution_count": 2,
   "metadata": {
    "collapsed": true
   },
   "outputs": [],
   "source": [
    "import seaborn as sns"
   ]
  },
  {
   "cell_type": "code",
   "execution_count": 3,
   "metadata": {
    "collapsed": true
   },
   "outputs": [],
   "source": [
    "sns.set_context('poster', font_scale=1.25)"
   ]
  },
  {
   "cell_type": "code",
   "execution_count": 4,
   "metadata": {
    "collapsed": false
   },
   "outputs": [],
   "source": [
    "%load_ext autoreload\n",
    "%autoreload 2"
   ]
  },
  {
   "cell_type": "code",
   "execution_count": 5,
   "metadata": {
    "collapsed": false
   },
   "outputs": [],
   "source": [
    "from LB_D2Q9 import pipe_cython as lb\n",
    "from LB_D2Q9 import pipe_opencl as lb_cl"
   ]
  },
  {
   "cell_type": "markdown",
   "metadata": {},
   "source": [
    "We now want to visualize the evolution of the flow...let's see how it goes..."
   ]
  },
  {
   "cell_type": "code",
   "execution_count": 6,
   "metadata": {
    "collapsed": true
   },
   "outputs": [],
   "source": [
    "from IPython import display"
   ]
  },
  {
   "cell_type": "markdown",
   "metadata": {},
   "source": [
    "It's probably easier to specify dt and dr and the dimensions. Then get everything else from that...yeah. That way the velocity is on the scale of U ~ 0.1 or so."
   ]
  },
  {
   "cell_type": "code",
   "execution_count": 7,
   "metadata": {
    "collapsed": false
   },
   "outputs": [
    {
     "name": "stdout",
     "output_type": "stream",
     "text": [
      "Desired viscosity: 1e-06\n",
      "\n",
      "###### Simulation Parameters #########\n",
      "\n",
      "ly 400\n",
      "lx 800\n",
      "omega: 0.500003\n"
     ]
    }
   ],
   "source": [
    "#### Input to the simulation in SI. ######\n",
    "diameter = 2. # meters\n",
    "length = 4. # meters\n",
    "\n",
    "deltaP = -.1\n",
    "\n",
    "dr = 0.005\n",
    "dt = dr**2\n",
    "\n",
    "viscosity = 10.**-6. # More viscous = easier to simulate!\n",
    "\n",
    "##### Derived parameters ######\n",
    "print 'Desired viscosity:' , viscosity\n",
    "#Re = (input_velocity * diameter)/viscosity\n",
    "#print 'Desired Re', Re\n",
    "\n",
    "# Re is set by diameter, input_velocity, and viscosity\n",
    "# Adjust dr so that mach number doers not explode!\n",
    "print\n",
    "print '###### Simulation Parameters #########'\n",
    "print\n",
    "\n",
    "# Solve for the desired omega...make sure it's in the correct range.\n",
    "\n",
    "\n",
    "ly = int(np.ceil(diameter/dr))\n",
    "lx = int(np.ceil(length/dr))\n",
    "print 'ly', ly\n",
    "print 'lx', lx\n",
    "\n",
    "nx = lx + 1\n",
    "ny = ly + 1\n",
    "\n",
    "omega = .5 + (3*dt*viscosity)/(dr**2)\n",
    "\n",
    "print 'omega:' , omega\n",
    "\n",
    "assert (omega > 0.5) and (omega < 1)\n",
    "\n",
    "obstacle_size=.25 # meters"
   ]
  },
  {
   "cell_type": "code",
   "execution_count": 8,
   "metadata": {
    "collapsed": false
   },
   "outputs": [
    {
     "data": {
      "text/plain": [
       "2890809"
      ]
     },
     "execution_count": 8,
     "metadata": {},
     "output_type": "execute_result"
    }
   ],
   "source": [
    "nx*ny*9"
   ]
  },
  {
   "cell_type": "code",
   "execution_count": 9,
   "metadata": {
    "collapsed": true
   },
   "outputs": [],
   "source": [
    "import skimage as ski\n",
    "import skimage.draw"
   ]
  },
  {
   "cell_type": "code",
   "execution_count": 10,
   "metadata": {
    "collapsed": true
   },
   "outputs": [],
   "source": [
    "import sys"
   ]
  },
  {
   "cell_type": "code",
   "execution_count": 11,
   "metadata": {
    "collapsed": false
   },
   "outputs": [],
   "source": [
    "sim = lb.Pipe_Flow(lx=lx, ly=ly, dr=dr, dt=dt, omega=omega,\n",
    "                  deltaP = deltaP)"
   ]
  },
  {
   "cell_type": "code",
   "execution_count": 13,
   "metadata": {
    "collapsed": false,
    "scrolled": false
   },
   "outputs": [
    {
     "name": "stdout",
     "output_type": "stream",
     "text": [
      "The platforms detected are:\n",
      "---------------------------\n",
      "Apple Apple version: OpenCL 1.2 (Sep 21 2015 19:24:11)\n",
      "The devices detected on platform Apple are:\n",
      "---------------------------\n",
      "Intel(R) Core(TM) i7-5557U CPU @ 3.10GHz [Type: CPU ]\n",
      "Maximum clock Frequency: 3100 MHz\n",
      "Maximum allocable memory size: 4294 MB\n",
      "Maximum work group size 1024\n",
      "Maximum work item dimensions 3\n",
      "Maximum work item size [1024, 1, 1]\n",
      "---------------------------\n",
      "Intel(R) Iris(TM) Graphics 6100 [Type: GPU ]\n",
      "Maximum clock Frequency: 1100 MHz\n",
      "Maximum allocable memory size: 402 MB\n",
      "Maximum work group size 256\n",
      "Maximum work item dimensions 3\n",
      "Maximum work item size [256, 256, 256]\n",
      "---------------------------\n",
      "This context is associated with  2 devices\n",
      "2d global: (896, 416)\n",
      "2d local: (128, 32)\n",
      "3d global: (832, 416, 9)\n",
      "3d local: (32, 32, 3)\n"
     ]
    },
    {
     "name": "stderr",
     "output_type": "stream",
     "text": [
      "//anaconda/lib/python2.7/site-packages/pyopencl-2015.1-py2.7-macosx-10.5-x86_64.egg/pyopencl/__init__.py:59: CompilerWarning: Built kernel retrieved from cache. Original from-source build had warnings:\n",
      "Build on <pyopencl.Device 'Intel(R) Iris(TM) Graphics 6100' on 'Apple' at 0x1024500> succeeded, but said:\n",
      "\n",
      "<program source>:17:29: warning: double precision constant requires cl_khr_fp64, casting to single precision\n",
      "        const float w[9] = {4./9.,1./9.,1./9.,1./9.,1./9.,1./36., 1./36.,1./36.,1./36.}; // weights for directions\n",
      "                            ^\n",
      "<program source>:17:32: warning: double precision constant requires cl_khr_fp64, casting to single precision\n",
      "        const float w[9] = {4./9.,1./9.,1./9.,1./9.,1./9.,1./36., 1./36.,1./36.,1./36.}; // weights for directions\n",
      "                               ^\n",
      "<program source>:17:35: warning: double precision constant requires cl_khr_fp64, casting to single precision\n",
      "        const float w[9] = {4./9.,1./9.,1./9.,1./9.,1./9.,1./36., 1./36.,1./36.,1./36.}; // weights for directions\n",
      "                                  ^\n",
      "<program source>:17:38: warning: double precision constant requires cl_khr_fp64, casting to single precision\n",
      "        const float w[9] = {4./9.,1./9.,1./9.,1./9.,1./9.,1./36., 1./36.,1./36.,1./36.}; // weights for directions\n",
      "                                     ^\n",
      "<program source>:17:41: warning: double precision constant requires cl_khr_fp64, casting to single precision\n",
      "        const float w[9] = {4./9.,1./9.,1./9.,1./9.,1./9.,1./36., 1./36.,1./36.,1./36.}; // weights for directions\n",
      "                                        ^\n",
      "<program source>:17:44: warning: double precision constant requires cl_khr_fp64, casting to single precision\n",
      "        const float w[9] = {4./9.,1./9.,1./9.,1./9.,1./9.,1./36., 1./36.,1./36.,1./36.}; // weights for directions\n",
      "                                           ^\n",
      "<program source>:17:47: warning: double precision constant requires cl_khr_fp64, casting to single precision\n",
      "        const float w[9] = {4./9.,1./9.,1./9.,1./9.,1./9.,1./36., 1./36.,1./36.,1./36.}; // weights for directions\n",
      "                                              ^\n",
      "<program source>:17:50: warning: double precision constant requires cl_khr_fp64, casting to single precision\n",
      "        const float w[9] = {4./9.,1./9.,1./9.,1./9.,1./9.,1./36., 1./36.,1./36.,1./36.}; // weights for directions\n",
      "                                                 ^\n",
      "<program source>:17:53: warning: double precision constant requires cl_khr_fp64, casting to single precision\n",
      "        const float w[9] = {4./9.,1./9.,1./9.,1./9.,1./9.,1./36., 1./36.,1./36.,1./36.}; // weights for directions\n",
      "                                                    ^\n",
      "<program source>:17:56: warning: double precision constant requires cl_khr_fp64, casting to single precision\n",
      "        const float w[9] = {4./9.,1./9.,1./9.,1./9.,1./9.,1./36., 1./36.,1./36.,1./36.}; // weights for directions\n",
      "                                                       ^\n",
      "<program source>:17:59: warning: double precision constant requires cl_khr_fp64, casting to single precision\n",
      "        const float w[9] = {4./9.,1./9.,1./9.,1./9.,1./9.,1./36., 1./36.,1./36.,1./36.}; // weights for directions\n",
      "                                                          ^\n",
      "<program source>:17:62: warning: double precision constant requires cl_khr_fp64, casting to single precision\n",
      "        const float w[9] = {4./9.,1./9.,1./9.,1./9.,1./9.,1./36., 1./36.,1./36.,1./36.}; // weights for directions\n",
      "                                                             ^\n",
      "<program source>:17:67: warning: double precision constant requires cl_khr_fp64, casting to single precision\n",
      "        const float w[9] = {4./9.,1./9.,1./9.,1./9.,1./9.,1./36., 1./36.,1./36.,1./36.}; // weights for directions\n",
      "                                                                  ^\n",
      "<program source>:17:70: warning: double precision constant requires cl_khr_fp64, casting to single precision\n",
      "        const float w[9] = {4./9.,1./9.,1./9.,1./9.,1./9.,1./36., 1./36.,1./36.,1./36.}; // weights for directions\n",
      "                                                                     ^\n",
      "<program source>:17:74: warning: double precision constant requires cl_khr_fp64, casting to single precision\n",
      "        const float w[9] = {4./9.,1./9.,1./9.,1./9.,1./9.,1./36., 1./36.,1./36.,1./36.}; // weights for directions\n",
      "                                                                         ^\n",
      "<program source>:17:77: warning: double precision constant requires cl_khr_fp64, casting to single precision\n",
      "        const float w[9] = {4./9.,1./9.,1./9.,1./9.,1./9.,1./36., 1./36.,1./36.,1./36.}; // weights for directions\n",
      "                                                                            ^\n",
      "<program source>:17:81: warning: double precision constant requires cl_khr_fp64, casting to single precision\n",
      "        const float w[9] = {4./9.,1./9.,1./9.,1./9.,1./9.,1./36., 1./36.,1./36.,1./36.}; // weights for directions\n",
      "                                                                                ^\n",
      "<program source>:17:84: warning: double precision constant requires cl_khr_fp64, casting to single precision\n",
      "        const float w[9] = {4./9.,1./9.,1./9.,1./9.,1./9.,1./36., 1./36.,1./36.,1./36.}; // weights for directions\n",
      "                                                                                   ^\n",
      "<program source>:24:31: warning: double precision constant requires cl_khr_fp64, casting to single precision\n",
      "        const float two_cs2 = 2.*cs2;\n",
      "                              ^\n",
      "<program source>:86:29: warning: double precision constant requires cl_khr_fp64, casting to single precision\n",
      "        float inverse_rho = 1./rho;\n",
      "                            ^\n",
      "<program source>:205:53: warning: double precision constant requires cl_khr_fp64, casting to single precision\n",
      "            f_global[1*ny*nx + two_d_index] = f3 + (2./3.)*inlet_rho*u;\n",
      "                                                    ^\n",
      "<program source>:205:56: warning: double precision constant requires cl_khr_fp64, casting to single precision\n",
      "            f_global[1*ny*nx + two_d_index] = f3 + (2./3.)*inlet_rho*u;\n",
      "                                                       ^\n",
      "<program source>:206:48: warning: double precision constant requires cl_khr_fp64, casting to single precision\n",
      "            f_global[5*ny*nx + two_d_index] = -.5*f2 +.5*f4 + f7 + (1./6.)*u*inlet_rho;\n",
      "                                               ^\n",
      "<program source>:206:55: warning: double precision constant requires cl_khr_fp64, casting to single precision\n",
      "            f_global[5*ny*nx + two_d_index] = -.5*f2 +.5*f4 + f7 + (1./6.)*u*inlet_rho;\n",
      "                                                      ^\n",
      "<program source>:206:69: warning: double precision constant requires cl_khr_fp64, casting to single precision\n",
      "            f_global[5*ny*nx + two_d_index] = -.5*f2 +.5*f4 + f7 + (1./6.)*u*inlet_rho;\n",
      "                                                                    ^\n",
      "<program source>:206:72: warning: double precision constant requires cl_khr_fp64, casting to single precision\n",
      "            f_global[5*ny*nx + two_d_index] = -.5*f2 +.5*f4 + f7 + (1./6.)*u*inlet_rho;\n",
      "                                                                       ^\n",
      "<program source>:207:47: warning: double precision constant requires cl_khr_fp64, casting to single precision\n",
      "            f_global[8*ny*nx + two_d_index] = .5*f2- .5*f4 + f6 + (1./6.)*u*inlet_rho;\n",
      "                                              ^\n",
      "<program source>:207:54: warning: double precision constant requires cl_khr_fp64, casting to single precision\n",
      "            f_global[8*ny*nx + two_d_index] = .5*f2- .5*f4 + f6 + (1./6.)*u*inlet_rho;\n",
      "                                                     ^\n",
      "<program source>:207:68: warning: double precision constant requires cl_khr_fp64, casting to single precision\n",
      "            f_global[8*ny*nx + two_d_index] = .5*f2- .5*f4 + f6 + (1./6.)*u*inlet_rho;\n",
      "                                                                   ^\n",
      "<program source>:207:71: warning: double precision constant requires cl_khr_fp64, casting to single precision\n",
      "            f_global[8*ny*nx + two_d_index] = .5*f2- .5*f4 + f6 + (1./6.)*u*inlet_rho;\n",
      "                                                                      ^\n",
      "<program source>:211:53: warning: double precision constant requires cl_khr_fp64, casting to single precision\n",
      "            f_global[3*ny*nx + two_d_index] = f1 - (2./3.)*outlet_rho*u;\n",
      "                                                    ^\n",
      "<program source>:211:56: warning: double precision constant requires cl_khr_fp64, casting to single precision\n",
      "            f_global[3*ny*nx + two_d_index] = f1 - (2./3.)*outlet_rho*u;\n",
      "                                                       ^\n",
      "<program source>:212:48: warning: double precision constant requires cl_khr_fp64, casting to single precision\n",
      "            f_global[6*ny*nx + two_d_index] = -.5*f2 + .5*f4 + f8 - (1./6.)*u*outlet_rho;\n",
      "                                               ^\n",
      "<program source>:212:56: warning: double precision constant requires cl_khr_fp64, casting to single precision\n",
      "            f_global[6*ny*nx + two_d_index] = -.5*f2 + .5*f4 + f8 - (1./6.)*u*outlet_rho;\n",
      "                                                       ^\n",
      "<program source>:212:70: warning: double precision constant requires cl_khr_fp64, casting to single precision\n",
      "            f_global[6*ny*nx + two_d_index] = -.5*f2 + .5*f4 + f8 - (1./6.)*u*outlet_rho;\n",
      "                                                                     ^\n",
      "<program source>:212:73: warning: double precision constant requires cl_khr_fp64, casting to single precision\n",
      "            f_global[6*ny*nx + two_d_index] = -.5*f2 + .5*f4 + f8 - (1./6.)*u*outlet_rho;\n",
      "                                                                        ^\n",
      "<program source>:213:47: warning: double precision constant requires cl_khr_fp64, casting to single precision\n",
      "            f_global[7*ny*nx + two_d_index] = .5*f2 - .5*f4 + f5 -(1./6.)*u*outlet_rho;\n",
      "                                              ^\n",
      "<program source>:213:55: warning: double precision constant requires cl_khr_fp64, casting to single precision\n",
      "            f_global[7*ny*nx + two_d_index] = .5*f2 - .5*f4 + f5 -(1./6.)*u*outlet_rho;\n",
      "                                                      ^\n",
      "<program source>:213:68: warning: double precision constant requires cl_khr_fp64, casting to single precision\n",
      "            f_global[7*ny*nx + two_d_index] = .5*f2 - .5*f4 + f5 -(1./6.)*u*outlet_rho;\n",
      "                                                                   ^\n",
      "<program source>:213:71: warning: double precision constant requires cl_khr_fp64, casting to single precision\n",
      "            f_global[7*ny*nx + two_d_index] = .5*f2 - .5*f4 + f5 -(1./6.)*u*outlet_rho;\n",
      "                                                                      ^\n",
      "<program source>:236:47: warning: double precision constant requires cl_khr_fp64, casting to single precision\n",
      "            f_global[6*ny*nx + two_d_index] = .5*(-f0-2*f3-2*f4-2*f7+inlet_rho);\n",
      "                                              ^\n",
      "<program source>:237:47: warning: double precision constant requires cl_khr_fp64, casting to single precision\n",
      "            f_global[8*ny*nx + two_d_index] = .5*(-f0-2*f3-2*f4-2*f7+inlet_rho);\n",
      "                                              ^\n",
      "<program source>:244:47: warning: double precision constant requires cl_khr_fp64, casting to single precision\n",
      "            f_global[5*ny*nx + two_d_index] = .5*(-f0-2*f2-2*f3-2*f6+inlet_rho);\n",
      "                                              ^\n",
      "<program source>:245:47: warning: double precision constant requires cl_khr_fp64, casting to single precision\n",
      "            f_global[7*ny*nx + two_d_index] = .5*(-f0-2*f2-2*f3-2*f6+inlet_rho);\n",
      "                                              ^\n",
      "<program source>:253:47: warning: double precision constant requires cl_khr_fp64, casting to single precision\n",
      "            f_global[5*ny*nx + two_d_index] = .5*(-f0-2*f1-2*f4-2*f8+outlet_rho);\n",
      "                                              ^\n",
      "<program source>:254:47: warning: double precision constant requires cl_khr_fp64, casting to single precision\n",
      "            f_global[7*ny*nx + two_d_index] = .5*(-f0-2*f1-2*f4-2*f8+outlet_rho);\n",
      "                                              ^\n",
      "<program source>:261:47: warning: double precision constant requires cl_khr_fp64, casting to single precision\n",
      "            f_global[6*ny*nx + two_d_index] = .5*(-f0-2*f1-2*f2-2*f5+outlet_rho);\n",
      "                                              ^\n",
      "<program source>:262:47: warning: double precision constant requires cl_khr_fp64, casting to single precision\n",
      "            f_global[8*ny*nx + two_d_index] = .5*(-f0-2*f1-2*f2-2*f5+outlet_rho);\n",
      "                                              ^\n",
      "\n",
      "  warn(text, CompilerWarning)\n",
      "//anaconda/lib/python2.7/site-packages/pyopencl-2015.1-py2.7-macosx-10.5-x86_64.egg/pyopencl/__init__.py:59: CompilerWarning: From-binary build succeeded, but resulted in non-empty logs:\n",
      "Build on <pyopencl.Device 'Intel(R) Iris(TM) Graphics 6100' on 'Apple' at 0x1024500> succeeded, but said:\n",
      "\n",
      "<program source>:17:29: warning: double precision constant requires cl_khr_fp64, casting to single precision\n",
      "        const float w[9] = {4./9.,1./9.,1./9.,1./9.,1./9.,1./36., 1./36.,1./36.,1./36.}; // weights for directions\n",
      "                            ^\n",
      "<program source>:17:32: warning: double precision constant requires cl_khr_fp64, casting to single precision\n",
      "        const float w[9] = {4./9.,1./9.,1./9.,1./9.,1./9.,1./36., 1./36.,1./36.,1./36.}; // weights for directions\n",
      "                               ^\n",
      "<program source>:17:35: warning: double precision constant requires cl_khr_fp64, casting to single precision\n",
      "        const float w[9] = {4./9.,1./9.,1./9.,1./9.,1./9.,1./36., 1./36.,1./36.,1./36.}; // weights for directions\n",
      "                                  ^\n",
      "<program source>:17:38: warning: double precision constant requires cl_khr_fp64, casting to single precision\n",
      "        const float w[9] = {4./9.,1./9.,1./9.,1./9.,1./9.,1./36., 1./36.,1./36.,1./36.}; // weights for directions\n",
      "                                     ^\n",
      "<program source>:17:41: warning: double precision constant requires cl_khr_fp64, casting to single precision\n",
      "        const float w[9] = {4./9.,1./9.,1./9.,1./9.,1./9.,1./36., 1./36.,1./36.,1./36.}; // weights for directions\n",
      "                                        ^\n",
      "<program source>:17:44: warning: double precision constant requires cl_khr_fp64, casting to single precision\n",
      "        const float w[9] = {4./9.,1./9.,1./9.,1./9.,1./9.,1./36., 1./36.,1./36.,1./36.}; // weights for directions\n",
      "                                           ^\n",
      "<program source>:17:47: warning: double precision constant requires cl_khr_fp64, casting to single precision\n",
      "        const float w[9] = {4./9.,1./9.,1./9.,1./9.,1./9.,1./36., 1./36.,1./36.,1./36.}; // weights for directions\n",
      "                                              ^\n",
      "<program source>:17:50: warning: double precision constant requires cl_khr_fp64, casting to single precision\n",
      "        const float w[9] = {4./9.,1./9.,1./9.,1./9.,1./9.,1./36., 1./36.,1./36.,1./36.}; // weights for directions\n",
      "                                                 ^\n",
      "<program source>:17:53: warning: double precision constant requires cl_khr_fp64, casting to single precision\n",
      "        const float w[9] = {4./9.,1./9.,1./9.,1./9.,1./9.,1./36., 1./36.,1./36.,1./36.}; // weights for directions\n",
      "                                                    ^\n",
      "<program source>:17:56: warning: double precision constant requires cl_khr_fp64, casting to single precision\n",
      "        const float w[9] = {4./9.,1./9.,1./9.,1./9.,1./9.,1./36., 1./36.,1./36.,1./36.}; // weights for directions\n",
      "                                                       ^\n",
      "<program source>:17:59: warning: double precision constant requires cl_khr_fp64, casting to single precision\n",
      "        const float w[9] = {4./9.,1./9.,1./9.,1./9.,1./9.,1./36., 1./36.,1./36.,1./36.}; // weights for directions\n",
      "                                                          ^\n",
      "<program source>:17:62: warning: double precision constant requires cl_khr_fp64, casting to single precision\n",
      "        const float w[9] = {4./9.,1./9.,1./9.,1./9.,1./9.,1./36., 1./36.,1./36.,1./36.}; // weights for directions\n",
      "                                                             ^\n",
      "<program source>:17:67: warning: double precision constant requires cl_khr_fp64, casting to single precision\n",
      "        const float w[9] = {4./9.,1./9.,1./9.,1./9.,1./9.,1./36., 1./36.,1./36.,1./36.}; // weights for directions\n",
      "                                                                  ^\n",
      "<program source>:17:70: warning: double precision constant requires cl_khr_fp64, casting to single precision\n",
      "        const float w[9] = {4./9.,1./9.,1./9.,1./9.,1./9.,1./36., 1./36.,1./36.,1./36.}; // weights for directions\n",
      "                                                                     ^\n",
      "<program source>:17:74: warning: double precision constant requires cl_khr_fp64, casting to single precision\n",
      "        const float w[9] = {4./9.,1./9.,1./9.,1./9.,1./9.,1./36., 1./36.,1./36.,1./36.}; // weights for directions\n",
      "                                                                         ^\n",
      "<program source>:17:77: warning: double precision constant requires cl_khr_fp64, casting to single precision\n",
      "        const float w[9] = {4./9.,1./9.,1./9.,1./9.,1./9.,1./36., 1./36.,1./36.,1./36.}; // weights for directions\n",
      "                                                                            ^\n",
      "<program source>:17:81: warning: double precision constant requires cl_khr_fp64, casting to single precision\n",
      "        const float w[9] = {4./9.,1./9.,1./9.,1./9.,1./9.,1./36., 1./36.,1./36.,1./36.}; // weights for directions\n",
      "                                                                                ^\n",
      "<program source>:17:84: warning: double precision constant requires cl_khr_fp64, casting to single precision\n",
      "        const float w[9] = {4./9.,1./9.,1./9.,1./9.,1./9.,1./36., 1./36.,1./36.,1./36.}; // weights for directions\n",
      "                                                                                   ^\n",
      "<program source>:24:31: warning: double precision constant requires cl_khr_fp64, casting to single precision\n",
      "        const float two_cs2 = 2.*cs2;\n",
      "                              ^\n",
      "<program source>:86:29: warning: double precision constant requires cl_khr_fp64, casting to single precision\n",
      "        float inverse_rho = 1./rho;\n",
      "                            ^\n",
      "<program source>:205:53: warning: double precision constant requires cl_khr_fp64, casting to single precision\n",
      "            f_global[1*ny*nx + two_d_index] = f3 + (2./3.)*inlet_rho*u;\n",
      "                                                    ^\n",
      "<program source>:205:56: warning: double precision constant requires cl_khr_fp64, casting to single precision\n",
      "            f_global[1*ny*nx + two_d_index] = f3 + (2./3.)*inlet_rho*u;\n",
      "                                                       ^\n",
      "<program source>:206:48: warning: double precision constant requires cl_khr_fp64, casting to single precision\n",
      "            f_global[5*ny*nx + two_d_index] = -.5*f2 +.5*f4 + f7 + (1./6.)*u*inlet_rho;\n",
      "                                               ^\n",
      "<program source>:206:55: warning: double precision constant requires cl_khr_fp64, casting to single precision\n",
      "            f_global[5*ny*nx + two_d_index] = -.5*f2 +.5*f4 + f7 + (1./6.)*u*inlet_rho;\n",
      "                                                      ^\n",
      "<program source>:206:69: warning: double precision constant requires cl_khr_fp64, casting to single precision\n",
      "            f_global[5*ny*nx + two_d_index] = -.5*f2 +.5*f4 + f7 + (1./6.)*u*inlet_rho;\n",
      "                                                                    ^\n",
      "<program source>:206:72: warning: double precision constant requires cl_khr_fp64, casting to single precision\n",
      "            f_global[5*ny*nx + two_d_index] = -.5*f2 +.5*f4 + f7 + (1./6.)*u*inlet_rho;\n",
      "                                                                       ^\n",
      "<program source>:207:47: warning: double precision constant requires cl_khr_fp64, casting to single precision\n",
      "            f_global[8*ny*nx + two_d_index] = .5*f2- .5*f4 + f6 + (1./6.)*u*inlet_rho;\n",
      "                                              ^\n",
      "<program source>:207:54: warning: double precision constant requires cl_khr_fp64, casting to single precision\n",
      "            f_global[8*ny*nx + two_d_index] = .5*f2- .5*f4 + f6 + (1./6.)*u*inlet_rho;\n",
      "                                                     ^\n",
      "<program source>:207:68: warning: double precision constant requires cl_khr_fp64, casting to single precision\n",
      "            f_global[8*ny*nx + two_d_index] = .5*f2- .5*f4 + f6 + (1./6.)*u*inlet_rho;\n",
      "                                                                   ^\n",
      "<program source>:207:71: warning: double precision constant requires cl_khr_fp64, casting to single precision\n",
      "            f_global[8*ny*nx + two_d_index] = .5*f2- .5*f4 + f6 + (1./6.)*u*inlet_rho;\n",
      "                                                                      ^\n",
      "<program source>:211:53: warning: double precision constant requires cl_khr_fp64, casting to single precision\n",
      "            f_global[3*ny*nx + two_d_index] = f1 - (2./3.)*outlet_rho*u;\n",
      "                                                    ^\n",
      "<program source>:211:56: warning: double precision constant requires cl_khr_fp64, casting to single precision\n",
      "            f_global[3*ny*nx + two_d_index] = f1 - (2./3.)*outlet_rho*u;\n",
      "                                                       ^\n",
      "<program source>:212:48: warning: double precision constant requires cl_khr_fp64, casting to single precision\n",
      "            f_global[6*ny*nx + two_d_index] = -.5*f2 + .5*f4 + f8 - (1./6.)*u*outlet_rho;\n",
      "                                               ^\n",
      "<program source>:212:56: warning: double precision constant requires cl_khr_fp64, casting to single precision\n",
      "            f_global[6*ny*nx + two_d_index] = -.5*f2 + .5*f4 + f8 - (1./6.)*u*outlet_rho;\n",
      "                                                       ^\n",
      "<program source>:212:70: warning: double precision constant requires cl_khr_fp64, casting to single precision\n",
      "            f_global[6*ny*nx + two_d_index] = -.5*f2 + .5*f4 + f8 - (1./6.)*u*outlet_rho;\n",
      "                                                                     ^\n",
      "<program source>:212:73: warning: double precision constant requires cl_khr_fp64, casting to single precision\n",
      "            f_global[6*ny*nx + two_d_index] = -.5*f2 + .5*f4 + f8 - (1./6.)*u*outlet_rho;\n",
      "                                                                        ^\n",
      "<program source>:213:47: warning: double precision constant requires cl_khr_fp64, casting to single precision\n",
      "            f_global[7*ny*nx + two_d_index] = .5*f2 - .5*f4 + f5 -(1./6.)*u*outlet_rho;\n",
      "                                              ^\n",
      "<program source>:213:55: warning: double precision constant requires cl_khr_fp64, casting to single precision\n",
      "            f_global[7*ny*nx + two_d_index] = .5*f2 - .5*f4 + f5 -(1./6.)*u*outlet_rho;\n",
      "                                                      ^\n",
      "<program source>:213:68: warning: double precision constant requires cl_khr_fp64, casting to single precision\n",
      "            f_global[7*ny*nx + two_d_index] = .5*f2 - .5*f4 + f5 -(1./6.)*u*outlet_rho;\n",
      "                                                                   ^\n",
      "<program source>:213:71: warning: double precision constant requires cl_khr_fp64, casting to single precision\n",
      "            f_global[7*ny*nx + two_d_index] = .5*f2 - .5*f4 + f5 -(1./6.)*u*outlet_rho;\n",
      "                                                                      ^\n",
      "<program source>:236:47: warning: double precision constant requires cl_khr_fp64, casting to single precision\n",
      "            f_global[6*ny*nx + two_d_index] = .5*(-f0-2*f3-2*f4-2*f7+inlet_rho);\n",
      "                                              ^\n",
      "<program source>:237:47: warning: double precision constant requires cl_khr_fp64, casting to single precision\n",
      "            f_global[8*ny*nx + two_d_index] = .5*(-f0-2*f3-2*f4-2*f7+inlet_rho);\n",
      "                                              ^\n",
      "<program source>:244:47: warning: double precision constant requires cl_khr_fp64, casting to single precision\n",
      "            f_global[5*ny*nx + two_d_index] = .5*(-f0-2*f2-2*f3-2*f6+inlet_rho);\n",
      "                                              ^\n",
      "<program source>:245:47: warning: double precision constant requires cl_khr_fp64, casting to single precision\n",
      "            f_global[7*ny*nx + two_d_index] = .5*(-f0-2*f2-2*f3-2*f6+inlet_rho);\n",
      "                                              ^\n",
      "<program source>:253:47: warning: double precision constant requires cl_khr_fp64, casting to single precision\n",
      "            f_global[5*ny*nx + two_d_index] = .5*(-f0-2*f1-2*f4-2*f8+outlet_rho);\n",
      "                                              ^\n",
      "<program source>:254:47: warning: double precision constant requires cl_khr_fp64, casting to single precision\n",
      "            f_global[7*ny*nx + two_d_index] = .5*(-f0-2*f1-2*f4-2*f8+outlet_rho);\n",
      "                                              ^\n",
      "<program source>:261:47: warning: double precision constant requires cl_khr_fp64, casting to single precision\n",
      "            f_global[6*ny*nx + two_d_index] = .5*(-f0-2*f1-2*f2-2*f5+outlet_rho);\n",
      "                                              ^\n",
      "<program source>:262:47: warning: double precision constant requires cl_khr_fp64, casting to single precision\n",
      "            f_global[8*ny*nx + two_d_index] = .5*(-f0-2*f1-2*f2-2*f5+outlet_rho);\n",
      "                                              ^\n",
      "\n",
      "  warn(text, CompilerWarning)\n"
     ]
    },
    {
     "ename": "LogicError",
     "evalue": "clEnqueueNDRangeKernel failed: invalid work group size",
     "output_type": "error",
     "traceback": [
      "\u001b[0;31m---------------------------------------------------------------------------\u001b[0m",
      "\u001b[0;31mLogicError\u001b[0m                                Traceback (most recent call last)",
      "\u001b[0;32m<ipython-input-13-766a2e1be08f>\u001b[0m in \u001b[0;36m<module>\u001b[0;34m()\u001b[0m\n\u001b[1;32m      4\u001b[0m sim_cl = lb_cl.Pipe_Flow(lx=lx, ly=ly, dr=dr, dt=dt, omega=omega,\n\u001b[1;32m      5\u001b[0m                   \u001b[0mdeltaP\u001b[0m \u001b[0;34m=\u001b[0m \u001b[0mdeltaP\u001b[0m\u001b[0;34m,\u001b[0m \u001b[0mtwo_d_local_size\u001b[0m\u001b[0;34m=\u001b[0m\u001b[0mtwo_d_local_size\u001b[0m\u001b[0;34m,\u001b[0m\u001b[0;34m\u001b[0m\u001b[0m\n\u001b[0;32m----> 6\u001b[0;31m                         three_d_local_size=three_d_local_size)\n\u001b[0m",
      "\u001b[0;32m/Users/matheusfernandes/Dropbox/School/FinalProject/2d-lb/LB_D2Q9/pipe_opencl.py\u001b[0m in \u001b[0;36m__init__\u001b[0;34m(self, omega, lx, ly, dr, dt, deltaP, two_d_local_size, three_d_local_size)\u001b[0m\n\u001b[1;32m     91\u001b[0m         \u001b[0mself\u001b[0m\u001b[0;34m.\u001b[0m\u001b[0mfeq\u001b[0m \u001b[0;34m=\u001b[0m \u001b[0mcl\u001b[0m\u001b[0;34m.\u001b[0m\u001b[0mBuffer\u001b[0m\u001b[0;34m(\u001b[0m\u001b[0mself\u001b[0m\u001b[0;34m.\u001b[0m\u001b[0mcontext\u001b[0m\u001b[0;34m,\u001b[0m \u001b[0mcl\u001b[0m\u001b[0;34m.\u001b[0m\u001b[0mmem_flags\u001b[0m\u001b[0;34m.\u001b[0m\u001b[0mREAD_WRITE\u001b[0m \u001b[0;34m|\u001b[0m \u001b[0mcl\u001b[0m\u001b[0;34m.\u001b[0m\u001b[0mmem_flags\u001b[0m\u001b[0;34m.\u001b[0m\u001b[0mCOPY_HOST_PTR\u001b[0m\u001b[0;34m,\u001b[0m \u001b[0mhostbuf\u001b[0m\u001b[0;34m=\u001b[0m\u001b[0mfeq_host\u001b[0m\u001b[0;34m)\u001b[0m\u001b[0;34m\u001b[0m\u001b[0m\n\u001b[1;32m     92\u001b[0m \u001b[0;34m\u001b[0m\u001b[0m\n\u001b[0;32m---> 93\u001b[0;31m         \u001b[0mself\u001b[0m\u001b[0;34m.\u001b[0m\u001b[0mupdate_feq\u001b[0m\u001b[0;34m(\u001b[0m\u001b[0;34m)\u001b[0m\u001b[0;34m\u001b[0m\u001b[0m\n\u001b[0m\u001b[1;32m     94\u001b[0m \u001b[0;34m\u001b[0m\u001b[0m\n\u001b[1;32m     95\u001b[0m         \u001b[0mf_host\u001b[0m\u001b[0;34m=\u001b[0m\u001b[0mnp\u001b[0m\u001b[0;34m.\u001b[0m\u001b[0mzeros\u001b[0m\u001b[0;34m(\u001b[0m\u001b[0;34m(\u001b[0m\u001b[0mself\u001b[0m\u001b[0;34m.\u001b[0m\u001b[0mnx\u001b[0m\u001b[0;34m,\u001b[0m \u001b[0mself\u001b[0m\u001b[0;34m.\u001b[0m\u001b[0mny\u001b[0m\u001b[0;34m,\u001b[0m \u001b[0mNUM_JUMPERS\u001b[0m\u001b[0;34m)\u001b[0m\u001b[0;34m,\u001b[0m \u001b[0mdtype\u001b[0m\u001b[0;34m=\u001b[0m\u001b[0mnp\u001b[0m\u001b[0;34m.\u001b[0m\u001b[0mfloat32\u001b[0m\u001b[0;34m,\u001b[0m \u001b[0morder\u001b[0m\u001b[0;34m=\u001b[0m\u001b[0;34m'F'\u001b[0m\u001b[0;34m)\u001b[0m \u001b[0;31m# initializing f\u001b[0m\u001b[0;34m\u001b[0m\u001b[0m\n",
      "\u001b[0;32m/Users/matheusfernandes/Dropbox/School/FinalProject/2d-lb/LB_D2Q9/pipe_opencl.py\u001b[0m in \u001b[0;36mupdate_feq\u001b[0;34m(self)\u001b[0m\n\u001b[1;32m    211\u001b[0m         self.kernels.update_feq(self.queue, self.three_d_global_size, self.three_d_local_size,\n\u001b[1;32m    212\u001b[0m                                 \u001b[0mself\u001b[0m\u001b[0;34m.\u001b[0m\u001b[0mfeq\u001b[0m\u001b[0;34m,\u001b[0m \u001b[0mself\u001b[0m\u001b[0;34m.\u001b[0m\u001b[0mu\u001b[0m\u001b[0;34m,\u001b[0m \u001b[0mself\u001b[0m\u001b[0;34m.\u001b[0m\u001b[0mv\u001b[0m\u001b[0;34m,\u001b[0m \u001b[0mself\u001b[0m\u001b[0;34m.\u001b[0m\u001b[0mrho\u001b[0m\u001b[0;34m,\u001b[0m\u001b[0;34m\u001b[0m\u001b[0m\n\u001b[0;32m--> 213\u001b[0;31m                                 np.int32(self.nx), np.int32(self.ny)).wait()\n\u001b[0m\u001b[1;32m    214\u001b[0m \u001b[0;34m\u001b[0m\u001b[0m\n\u001b[1;32m    215\u001b[0m     \u001b[0;32mdef\u001b[0m \u001b[0mcollide_particles\u001b[0m\u001b[0;34m(\u001b[0m\u001b[0mself\u001b[0m\u001b[0;34m)\u001b[0m\u001b[0;34m:\u001b[0m\u001b[0;34m\u001b[0m\u001b[0m\n",
      "\u001b[0;32m//anaconda/lib/python2.7/site-packages/pyopencl-2015.1-py2.7-macosx-10.5-x86_64.egg/pyopencl/__init__.pyc\u001b[0m in \u001b[0;36mkernel_call\u001b[0;34m(self, queue, global_size, local_size, *args, **kwargs)\u001b[0m\n\u001b[1;32m    510\u001b[0m \u001b[0;34m\u001b[0m\u001b[0m\n\u001b[1;32m    511\u001b[0m         return enqueue_nd_range_kernel(queue, self, global_size, local_size,\n\u001b[0;32m--> 512\u001b[0;31m                 global_offset, wait_for, g_times_l=g_times_l)\n\u001b[0m\u001b[1;32m    513\u001b[0m \u001b[0;34m\u001b[0m\u001b[0m\n\u001b[1;32m    514\u001b[0m     \u001b[0;32mdef\u001b[0m \u001b[0mkernel_set_scalar_arg_dtypes\u001b[0m\u001b[0;34m(\u001b[0m\u001b[0mself\u001b[0m\u001b[0;34m,\u001b[0m \u001b[0marg_dtypes\u001b[0m\u001b[0;34m)\u001b[0m\u001b[0;34m:\u001b[0m\u001b[0;34m\u001b[0m\u001b[0m\n",
      "\u001b[0;31mLogicError\u001b[0m: clEnqueueNDRangeKernel failed: invalid work group size"
     ]
    }
   ],
   "source": [
    "two_d_local_size = (128, 32)\n",
    "three_d_local_size = (32, 32, 3)\n",
    "\n",
    "sim_cl = lb_cl.Pipe_Flow(lx=lx, ly=ly, dr=dr, dt=dt, omega=omega,\n",
    "                  deltaP = deltaP, two_d_local_size=two_d_local_size,\n",
    "                        three_d_local_size=three_d_local_size)"
   ]
  },
  {
   "cell_type": "code",
   "execution_count": null,
   "metadata": {
    "collapsed": false
   },
   "outputs": [],
   "source": [
    "%%prun\n",
    "\n",
    "sim.run(100)"
   ]
  },
  {
   "cell_type": "code",
   "execution_count": null,
   "metadata": {
    "collapsed": false
   },
   "outputs": [],
   "source": [
    "%%prun\n",
    "\n",
    "sim_cl.run(100)"
   ]
  },
  {
   "cell_type": "markdown",
   "metadata": {},
   "source": [
    "Let's make sure the velocity on the walls is basically zero..."
   ]
  },
  {
   "cell_type": "code",
   "execution_count": null,
   "metadata": {
    "collapsed": false
   },
   "outputs": [],
   "source": [
    "fields = sim_cl.get_fields_on_cpu()\n",
    "u = fields['u']\n",
    "v = fields['v']\n",
    "mag_cl = np.sqrt(u**2 + v**2)\n",
    "plt.imshow(mag_cl.T, cmap=cm.coolwarm)\n",
    "plt.grid(False)\n",
    "#plt.clim(0, 1)\n",
    "plt.colorbar()"
   ]
  },
  {
   "cell_type": "code",
   "execution_count": null,
   "metadata": {
    "collapsed": false
   },
   "outputs": [],
   "source": [
    "mag = np.sqrt(sim.u**2 + sim.v**2)\n",
    "plt.imshow(mag.T, cmap=cm.coolwarm)\n",
    "plt.grid(False)\n",
    "#plt.clim(0,1)\n",
    "plt.colorbar()"
   ]
  },
  {
   "cell_type": "markdown",
   "metadata": {},
   "source": [
    "Well, this basically looks correct...let's compare the two. The corners are definitely different though. And the walls."
   ]
  },
  {
   "cell_type": "code",
   "execution_count": null,
   "metadata": {
    "collapsed": false
   },
   "outputs": [],
   "source": [
    "differences = np.abs(mag_cl - mag) > 10.**-6.\n",
    "plt.imshow(differences.T, interpolation=None)\n",
    "plt.colorbar()\n",
    "plt.grid(False)"
   ]
  },
  {
   "cell_type": "code",
   "execution_count": null,
   "metadata": {
    "collapsed": false
   },
   "outputs": [],
   "source": [
    "plt.imshow((mag_cl - mag).T)\n",
    "plt.grid(False)\n",
    "plt.colorbar()"
   ]
  },
  {
   "cell_type": "markdown",
   "metadata": {},
   "source": [
    "Interesting. So the problem areas appear to be the walls now...and only the walls! Interesting..."
   ]
  },
  {
   "cell_type": "markdown",
   "metadata": {},
   "source": [
    "Well...it looks reasonably correct now..."
   ]
  },
  {
   "cell_type": "code",
   "execution_count": null,
   "metadata": {
    "collapsed": false
   },
   "outputs": [],
   "source": [
    "plt.imshow((mag_cl - mag).T)\n",
    "plt.grid(False)\n",
    "plt.colorbar()"
   ]
  },
  {
   "cell_type": "markdown",
   "metadata": {},
   "source": [
    "OMG. I think it works! :D"
   ]
  },
  {
   "cell_type": "code",
   "execution_count": null,
   "metadata": {
    "collapsed": true
   },
   "outputs": [],
   "source": [
    "def check_variable(varname):\n",
    "    sim_cl_field = sim_cl.get_fields_on_cpu()[varname]\n",
    "    \n",
    "    if varname == 'rho':\n",
    "        sim_field = sim.rho\n",
    "    if varname == 'u':\n",
    "        sim_field = sim.u\n",
    "    if varname == 'v':\n",
    "        sim_field = sim.v\n",
    "    if varname == 'feq':\n",
    "        sim_field = sim.feq\n",
    "        # Have to reshape it...ugh.\n",
    "        sim_field = np.rollaxis(sim_field, 0, 3)\n",
    "    if varname == 'f':\n",
    "        sim_field = sim.f\n",
    "        sim_field = np.rollaxis(sim_field, 0, 3)\n",
    "    return sim_field, sim_cl_field"
   ]
  },
  {
   "cell_type": "code",
   "execution_count": null,
   "metadata": {
    "collapsed": true
   },
   "outputs": [],
   "source": [
    "sim.move_bcs()\n",
    "sim_cl.move_bcs()"
   ]
  },
  {
   "cell_type": "code",
   "execution_count": null,
   "metadata": {
    "collapsed": false
   },
   "outputs": [],
   "source": [
    "sim.move()\n",
    "sim_cl.move()"
   ]
  },
  {
   "cell_type": "markdown",
   "metadata": {},
   "source": [
    "I'm so confused. Somehow, running the move_bcs command did nothing..."
   ]
  },
  {
   "cell_type": "code",
   "execution_count": null,
   "metadata": {
    "collapsed": true
   },
   "outputs": [],
   "source": [
    "field, field_cl = check_variable('f')"
   ]
  },
  {
   "cell_type": "code",
   "execution_count": null,
   "metadata": {
    "collapsed": false
   },
   "outputs": [],
   "source": [
    "# They should be exactly the same\n",
    "fieldnum = 1\n",
    "problems = np.abs(field[:, :, fieldnum] - field_cl[:, :, fieldnum]) > 10.**-6.\n",
    "plt.imshow(problems.T)\n",
    "plt.clim(0, 1)\n",
    "plt.colorbar()\n",
    "plt.grid(False)"
   ]
  },
  {
   "cell_type": "markdown",
   "metadata": {},
   "source": [
    "Ok, interesting...there must be something wrong with my boundaries for the different jumpers!"
   ]
  },
  {
   "cell_type": "markdown",
   "metadata": {},
   "source": [
    "Ok, fields 6 & 8 are still not cooperating...we'll have to figure out why that is."
   ]
  },
  {
   "cell_type": "markdown",
   "metadata": {},
   "source": [
    "Now, everything is fine...lol"
   ]
  },
  {
   "cell_type": "code",
   "execution_count": null,
   "metadata": {
    "collapsed": false
   },
   "outputs": [],
   "source": [
    "print field[5, 5, 3]\n",
    "print field_cl[5, 5, 3]"
   ]
  },
  {
   "cell_type": "code",
   "execution_count": null,
   "metadata": {
    "collapsed": false
   },
   "outputs": [],
   "source": []
  },
  {
   "cell_type": "markdown",
   "metadata": {},
   "source": [
    "Interesting...why does the opencl seem to be better behaved? lol"
   ]
  },
  {
   "cell_type": "markdown",
   "metadata": {},
   "source": [
    "6 and 8 are the problems. evidently."
   ]
  },
  {
   "cell_type": "code",
   "execution_count": null,
   "metadata": {
    "collapsed": false
   },
   "outputs": [],
   "source": [
    "problems[lx, ly]"
   ]
  },
  {
   "cell_type": "markdown",
   "metadata": {},
   "source": [
    "Only the edges appear crazy..."
   ]
  },
  {
   "cell_type": "code",
   "execution_count": null,
   "metadata": {
    "collapsed": false
   },
   "outputs": [],
   "source": [
    "rho = sim.get_fields_on_cpu()['rho']\n",
    "print np.max(rho)\n",
    "print np.min(rho)"
   ]
  },
  {
   "cell_type": "code",
   "execution_count": null,
   "metadata": {
    "collapsed": false
   },
   "outputs": [],
   "source": [
    "fields = sim.get_fields_on_cpu()\n",
    "plt.imshow(fields['rho'].T)\n",
    "plt.colorbar()\n",
    "plt.grid(False)"
   ]
  },
  {
   "cell_type": "code",
   "execution_count": null,
   "metadata": {
    "collapsed": false
   },
   "outputs": [],
   "source": [
    "fields = sim.get_fields_on_cpu()\n",
    "plt.imshow(fields['u'].T)\n",
    "plt.colorbar()\n",
    "plt.grid(False)"
   ]
  },
  {
   "cell_type": "markdown",
   "metadata": {},
   "source": [
    "Yeah the boundaries still look utterly psychotic. lol. Not sure what's up with them! F & feq still look reasonable...so it's probably in an update function..."
   ]
  },
  {
   "cell_type": "code",
   "execution_count": null,
   "metadata": {
    "collapsed": false
   },
   "outputs": [],
   "source": [
    "fields = sim.get_fields_on_cpu()\n",
    "plt.imshow(fields['v'].T)\n",
    "plt.colorbar()\n",
    "plt.grid(False)"
   ]
  },
  {
   "cell_type": "code",
   "execution_count": null,
   "metadata": {
    "collapsed": false
   },
   "outputs": [],
   "source": [
    "fields = sim_cl.get_fields_on_cpu()\n",
    "plt.imshow(np.sum(fields['feq'],axis=2).T)\n",
    "plt.colorbar()\n",
    "plt.grid(False)"
   ]
  },
  {
   "cell_type": "code",
   "execution_count": null,
   "metadata": {
    "collapsed": false
   },
   "outputs": [],
   "source": [
    "fields = sim.get_fields_on_cpu()\n",
    "plt.imshow(np.sum(fields['f'], axis=2).T)\n",
    "plt.colorbar()\n",
    "plt.grid(False)"
   ]
  },
  {
   "cell_type": "code",
   "execution_count": null,
   "metadata": {
    "collapsed": true
   },
   "outputs": [],
   "source": [
    "sim.run(10)"
   ]
  },
  {
   "cell_type": "code",
   "execution_count": null,
   "metadata": {
    "collapsed": false
   },
   "outputs": [],
   "source": [
    "wat = sim.get_fields_on_cpu()['u']**2 + sim.get_fields_on_cpu()['v']**2\n",
    "plt.imshow(wat.T, cmap = cm.coolwarm)\n",
    "plt.grid(False)\n",
    "plt.colorbar()"
   ]
  },
  {
   "cell_type": "markdown",
   "metadata": {},
   "source": [
    "Yeah this is not correct lol. It explodes!"
   ]
  },
  {
   "cell_type": "code",
   "execution_count": null,
   "metadata": {
    "collapsed": false
   },
   "outputs": [],
   "source": [
    "sim.get_fields_on_cpu()['rho']"
   ]
  },
  {
   "cell_type": "markdown",
   "metadata": {},
   "source": [
    "LOL"
   ]
  },
  {
   "cell_type": "markdown",
   "metadata": {},
   "source": [
    "Interesting...weird streaks are forming! Disaster...lol."
   ]
  },
  {
   "cell_type": "code",
   "execution_count": null,
   "metadata": {
    "collapsed": false,
    "scrolled": false
   },
   "outputs": [],
   "source": [
    "total_num_steps = 5000\n",
    "steps_per_image= 25\n",
    "\n",
    "num_to_record = int(np.ceil(float(total_num_steps)/steps_per_image))\n",
    "\n",
    "Re_list = []\n",
    "Ma_list = []\n",
    "\n",
    "plt.figure()\n",
    "for i in range(num_to_record):\n",
    "    sim.update_dimensionless_nums()\n",
    "    Re_list.append(sim.Re)\n",
    "    Ma_list.append(sim.Ma)\n",
    "    print 'max non_dim u:', np.max(sim.u)\n",
    "    print 'sum of mass' , np.sum(sim.rho)/(sim.nx*sim.ny)\n",
    "    mag = np.sqrt(sim.u**2 + sim.v**2)\n",
    "    plt.imshow(mag.T, cmap = cm.coolwarm)\n",
    "    plt.grid(False)\n",
    "    #plt.clim(vmin=0, vmax=1.)\n",
    "    #if i == 0:\n",
    "    #    plt.colorbar()\n",
    "    display.clear_output(wait=True)\n",
    "    display.display(plt.gcf())\n",
    "    \n",
    "    sim.run(steps_per_image)\n",
    "plt.clf() # This way a second figure does not appear at the end..."
   ]
  },
  {
   "cell_type": "markdown",
   "metadata": {},
   "source": [
    "IDK how to convert...but let's just fit."
   ]
  },
  {
   "cell_type": "code",
   "execution_count": null,
   "metadata": {
    "collapsed": false
   },
   "outputs": [],
   "source": [
    "plt.semilogy(Ma_list, ls='-', marker='.')"
   ]
  },
  {
   "cell_type": "markdown",
   "metadata": {},
   "source": [
    "Nope, it's fucked! lol."
   ]
  },
  {
   "cell_type": "code",
   "execution_count": null,
   "metadata": {
    "collapsed": false
   },
   "outputs": [],
   "source": [
    "plt.semilogy(Re_list, ls='-', marker='.')"
   ]
  },
  {
   "cell_type": "markdown",
   "metadata": {},
   "source": [
    "Looks like it still hasn't converged. But, as expected, larger pressure differences leads to larger reynolds numbers!"
   ]
  }
 ],
 "metadata": {
  "kernelspec": {
   "display_name": "Python 2",
   "language": "python",
   "name": "python2"
  },
  "language_info": {
   "codemirror_mode": {
    "name": "ipython",
    "version": 2
   },
   "file_extension": ".py",
   "mimetype": "text/x-python",
   "name": "python",
   "nbconvert_exporter": "python",
   "pygments_lexer": "ipython2",
   "version": "2.7.10"
  }
 },
 "nbformat": 4,
 "nbformat_minor": 0
}
