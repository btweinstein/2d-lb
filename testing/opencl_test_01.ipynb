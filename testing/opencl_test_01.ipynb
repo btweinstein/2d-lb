{
 "cells": [
  {
   "cell_type": "code",
   "execution_count": 1,
   "metadata": {
    "collapsed": false
   },
   "outputs": [
    {
     "name": "stdout",
     "output_type": "stream",
     "text": [
      "Populating the interactive namespace from numpy and matplotlib\n"
     ]
    }
   ],
   "source": [
    "%pylab inline"
   ]
  },
  {
   "cell_type": "code",
   "execution_count": 13,
   "metadata": {
    "collapsed": true
   },
   "outputs": [],
   "source": [
    "import seaborn as sns"
   ]
  },
  {
   "cell_type": "code",
   "execution_count": 14,
   "metadata": {
    "collapsed": true
   },
   "outputs": [],
   "source": [
    "sns.set_context('poster', font_scale=1.25)"
   ]
  },
  {
   "cell_type": "code",
   "execution_count": 15,
   "metadata": {
    "collapsed": false
   },
   "outputs": [
    {
     "name": "stdout",
     "output_type": "stream",
     "text": [
      "The autoreload extension is already loaded. To reload it, use:\n",
      "  %reload_ext autoreload\n"
     ]
    }
   ],
   "source": [
    "%load_ext autoreload\n",
    "%autoreload 2"
   ]
  },
  {
   "cell_type": "code",
   "execution_count": 16,
   "metadata": {
    "collapsed": true
   },
   "outputs": [],
   "source": [
    "from LB_D2Q9 import pipe_opencl as lb"
   ]
  },
  {
   "cell_type": "markdown",
   "metadata": {},
   "source": [
    "We now want to visualize the evolution of the flow...let's see how it goes..."
   ]
  },
  {
   "cell_type": "code",
   "execution_count": 17,
   "metadata": {
    "collapsed": true
   },
   "outputs": [],
   "source": [
    "from IPython import display"
   ]
  },
  {
   "cell_type": "markdown",
   "metadata": {},
   "source": [
    "It's probably easier to specify dt and dr and the dimensions. Then get everything else from that...yeah. That way the velocity is on the scale of U ~ 0.1 or so."
   ]
  },
  {
   "cell_type": "code",
   "execution_count": 18,
   "metadata": {
    "collapsed": false
   },
   "outputs": [
    {
     "name": "stdout",
     "output_type": "stream",
     "text": [
      "Desired viscosity: 1e-06\n",
      "\n",
      "###### Simulation Parameters #########\n",
      "\n",
      "ly 400\n",
      "lx 1000\n",
      "omega: 0.62\n"
     ]
    }
   ],
   "source": [
    "#### Input to the simulation in SI. ######\n",
    "diameter = 4. # meters\n",
    "length = 10. # meters\n",
    "\n",
    "deltaP = -0.2\n",
    "\n",
    "dr = 0.01\n",
    "dt = 4.\n",
    "\n",
    "viscosity = 10.**-6. # More viscous = easier to simulate!\n",
    "\n",
    "##### Derived parameters ######\n",
    "print 'Desired viscosity:' , viscosity\n",
    "#Re = (input_velocity * diameter)/viscosity\n",
    "#print 'Desired Re', Re\n",
    "\n",
    "# Re is set by diameter, input_velocity, and viscosity\n",
    "# Adjust dr so that mach number doers not explode!\n",
    "print\n",
    "print '###### Simulation Parameters #########'\n",
    "print\n",
    "\n",
    "# Solve for the desired omega...make sure it's in the correct range.\n",
    "\n",
    "\n",
    "ly = int(np.ceil(diameter/dr))\n",
    "lx = int(np.ceil(length/dr))\n",
    "print 'ly', ly\n",
    "print 'lx', lx\n",
    "\n",
    "nx = lx + 1\n",
    "ny = ly + 1\n",
    "\n",
    "omega = .5 + (3*dt*viscosity)/(dr**2)\n",
    "\n",
    "print 'omega:' , omega\n",
    "\n",
    "assert (omega > 0.5) and (omega < 1)\n",
    "\n",
    "obstacle_size=.25 # meters"
   ]
  },
  {
   "cell_type": "code",
   "execution_count": 19,
   "metadata": {
    "collapsed": false
   },
   "outputs": [
    {
     "data": {
      "text/plain": [
       "3612609"
      ]
     },
     "execution_count": 19,
     "metadata": {},
     "output_type": "execute_result"
    }
   ],
   "source": [
    "nx*ny*9"
   ]
  },
  {
   "cell_type": "code",
   "execution_count": 20,
   "metadata": {
    "collapsed": true
   },
   "outputs": [],
   "source": [
    "import skimage as ski\n",
    "import skimage.draw"
   ]
  },
  {
   "cell_type": "code",
   "execution_count": 21,
   "metadata": {
    "collapsed": true
   },
   "outputs": [],
   "source": [
    "import sys"
   ]
  },
  {
   "cell_type": "code",
   "execution_count": 24,
   "metadata": {
    "collapsed": false
   },
   "outputs": [
    {
     "name": "stdout",
     "output_type": "stream",
     "text": [
      "The platforms detected are:\n",
      "---------------------------\n",
      "Intel(R) OpenCL Intel(R) Corporation version: OpenCL 1.2 LINUX\n",
      "The devices detected on platform Intel(R) OpenCL are:\n",
      "---------------------------\n",
      "       Intel(R) Core(TM) i7-3537U CPU @ 2.00GHz [Type: CPU ]\n",
      "Maximum clock Frequency: 2000 MHz\n",
      "Maximum allocable memory size: 2062 MB\n",
      "Maximum work group size 8192\n",
      "Maximum work item dimensions 3\n",
      "Maximum work item size [8192, 8192, 8192]\n",
      "---------------------------\n",
      "This context is associated with  1 devices\n",
      "Starting kernel...\n",
      "Done!\n"
     ]
    }
   ],
   "source": [
    "sim = lb.Pipe_Flow(lx=lx, ly=ly, dr=dr, dt=dt, omega=omega,\n",
    "                  deltaP = deltaP)\n",
    "\n",
    "# U should be on the order of 0.1, 0.2 in the simulation!\n",
    "#print 'u_max in simulation:' , np.max(sim.u)"
   ]
  },
  {
   "cell_type": "code",
   "execution_count": 28,
   "metadata": {
    "collapsed": false
   },
   "outputs": [],
   "source": [
    "sim.run(100)"
   ]
  },
  {
   "cell_type": "code",
   "execution_count": null,
   "metadata": {
    "collapsed": false,
    "scrolled": false
   },
   "outputs": [],
   "source": [
    "total_num_steps = 5000\n",
    "steps_per_image= 25\n",
    "\n",
    "num_to_record = int(np.ceil(float(total_num_steps)/steps_per_image))\n",
    "\n",
    "Re_list = []\n",
    "Ma_list = []\n",
    "\n",
    "plt.figure()\n",
    "for i in range(num_to_record):\n",
    "    sim.update_dimensionless_nums()\n",
    "    Re_list.append(sim.Re)\n",
    "    Ma_list.append(sim.Ma)\n",
    "    print 'max non_dim u:', np.max(sim.u)\n",
    "    print 'sum of mass' , np.sum(sim.rho)/(sim.nx*sim.ny)\n",
    "    mag = np.sqrt(sim.u**2 + sim.v**2)\n",
    "    plt.imshow(mag.T, cmap = cm.coolwarm)\n",
    "    plt.grid(False)\n",
    "    #plt.clim(vmin=0, vmax=1.)\n",
    "    #if i == 0:\n",
    "    #    plt.colorbar()\n",
    "    display.clear_output(wait=True)\n",
    "    display.display(plt.gcf())\n",
    "    \n",
    "    sim.run(steps_per_image)\n",
    "plt.clf() # This way a second figure does not appear at the end..."
   ]
  },
  {
   "cell_type": "markdown",
   "metadata": {},
   "source": [
    "IDK how to convert...but let's just fit."
   ]
  },
  {
   "cell_type": "code",
   "execution_count": null,
   "metadata": {
    "collapsed": false
   },
   "outputs": [],
   "source": [
    "plt.semilogy(Ma_list, ls='-', marker='.')"
   ]
  },
  {
   "cell_type": "markdown",
   "metadata": {},
   "source": [
    "Nope, it's fucked! lol."
   ]
  },
  {
   "cell_type": "code",
   "execution_count": null,
   "metadata": {
    "collapsed": false
   },
   "outputs": [],
   "source": [
    "plt.semilogy(Re_list, ls='-', marker='.')"
   ]
  },
  {
   "cell_type": "markdown",
   "metadata": {},
   "source": [
    "Looks like it still hasn't converged. But, as expected, larger pressure differences leads to larger reynolds numbers!"
   ]
  }
 ],
 "metadata": {
  "kernelspec": {
   "display_name": "Python 2",
   "language": "python",
   "name": "python2"
  },
  "language_info": {
   "codemirror_mode": {
    "name": "ipython",
    "version": 2
   },
   "file_extension": ".py",
   "mimetype": "text/x-python",
   "name": "python",
   "nbconvert_exporter": "python",
   "pygments_lexer": "ipython2",
   "version": "2.7.10"
  }
 },
 "nbformat": 4,
 "nbformat_minor": 0
}
