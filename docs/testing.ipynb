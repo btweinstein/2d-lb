{
 "cells": [
  {
   "cell_type": "code",
   "execution_count": 64,
   "metadata": {
    "collapsed": false
   },
   "outputs": [
    {
     "name": "stdout",
     "output_type": "stream",
     "text": [
      "Populating the interactive namespace from numpy and matplotlib\n"
     ]
    },
    {
     "name": "stderr",
     "output_type": "stream",
     "text": [
      "WARNING: pylab import has clobbered these variables: ['f']\n",
      "`%matplotlib` prevents importing * from pylab and numpy\n"
     ]
    }
   ],
   "source": [
    "%pylab inline"
   ]
  },
  {
   "cell_type": "code",
   "execution_count": 65,
   "metadata": {
    "collapsed": true
   },
   "outputs": [],
   "source": [
    "import seaborn as sns"
   ]
  },
  {
   "cell_type": "code",
   "execution_count": 66,
   "metadata": {
    "collapsed": true
   },
   "outputs": [],
   "source": [
    "sns.set_context('poster', font_scale=1.25)"
   ]
  },
  {
   "cell_type": "code",
   "execution_count": 67,
   "metadata": {
    "collapsed": false
   },
   "outputs": [],
   "source": [
    "w=np.array([4./9.,1./9.,1./9.,1./9.,1./9.,1./36.,    \n",
    "            1./36.,1./36.,1./36.]) # weights for directions\n",
    "cx=np.array([0,1,0,-1,0,1,-1,-1,1]) # direction vector for the x direction\n",
    "cy=np.array([0,0,1,0,-1,1,1,-1,-1]) # direction vector for the y direction\n",
    "tau=1\n",
    "cs=1/math.sqrt(3)\n",
    "cs2 = cs**2\n",
    "cs22 = 2*cs2\n",
    "cssq = 2.0/9.0\n",
    "\n",
    "w0 = 4./9.\n",
    "w1 = 1./9.\n",
    "w2 = 1./36."
   ]
  },
  {
   "cell_type": "code",
   "execution_count": 68,
   "metadata": {
    "collapsed": false
   },
   "outputs": [
    {
     "name": "stdout",
     "output_type": "stream",
     "text": [
      "Viscosity is: 0.166666666667\n"
     ]
    }
   ],
   "source": [
    "viscosity = cs**2*(tau-0.5)\n",
    "print 'Viscosity is:' , viscosity"
   ]
  },
  {
   "cell_type": "code",
   "execution_count": 69,
   "metadata": {
    "collapsed": true
   },
   "outputs": [],
   "source": [
    "lx=400  # length of domain in the x direction\n",
    "# extend by one to deal with domain boundaries at walls...\n",
    "nx = lx + 1\n",
    "ly=400  # length of domain in the y direction\n",
    "ny = ly + 1"
   ]
  },
  {
   "cell_type": "markdown",
   "metadata": {},
   "source": [
    "We know that\n",
    "\n",
    "$\\nu = \\frac{\\Delta x^2}{3 \\Delta t}(w - \\frac{1}{2})$\n",
    "\n",
    "from my engineering book, or\n",
    "\n",
    "$\\nu = c_s^2(\\tau-\\frac{1}{2})=c_s^2(\\frac{1}{w}-\\frac{1}{2})$"
   ]
  },
  {
   "cell_type": "markdown",
   "metadata": {},
   "source": [
    "We begin by calculating macrosocpic quantities. The initial conditions. Let's make constant density everywhere of one."
   ]
  },
  {
   "cell_type": "code",
   "execution_count": 70,
   "metadata": {
    "collapsed": false
   },
   "outputs": [],
   "source": [
    "rho = np.ones((nx, ny))\n",
    "u_applied=cs/100\n",
    "u = u_applied*(np.ones((nx, ny)) + np.random.randn(nx,ny))\n",
    "v= (u_applied/100.)*(np.ones((nx, ny)) + np.random.randn(nx,ny)) # initializing the vertical velocities"
   ]
  },
  {
   "cell_type": "code",
   "execution_count": 71,
   "metadata": {
    "collapsed": true
   },
   "outputs": [],
   "source": [
    "f=np.zeros((9,nx,ny)) # initializing f\n",
    "feq = np.zeros((9, nx, ny))"
   ]
  },
  {
   "cell_type": "markdown",
   "metadata": {},
   "source": [
    "We know that $\\sum_i w_i f_i = \\rho$, so"
   ]
  },
  {
   "cell_type": "markdown",
   "metadata": {},
   "source": [
    "Let's just do this ourselves. Ok, so we have f0. We now need to stream and update the density array. "
   ]
  },
  {
   "cell_type": "code",
   "execution_count": 72,
   "metadata": {
    "collapsed": false
   },
   "outputs": [],
   "source": [
    "# Taken from sauro succi's code. This will be super easy to put on the GPU.\n",
    "\n",
    "def update_feq():\n",
    "    ul = u/cs2\n",
    "    vl = v/cs2\n",
    "    uv = ul*vl\n",
    "    usq = u*u\n",
    "    vsq = v*v\n",
    "    sumsq  = (usq+vsq)/cs22\n",
    "    sumsq2 = sumsq*(1.-cs2)/cs2\n",
    "    u2 = usq/cssq \n",
    "    v2 = vsq/cssq\n",
    "\n",
    "    feq[0, :, :] = w0*(1. - sumsq)\n",
    "\n",
    "    feq[1, :, :] = w1*(1. - sumsq  + u2 + ul)\n",
    "    feq[2, :, :] = w1*(1. - sumsq  + v2 + vl)\n",
    "    feq[3, :, :] = w1*(1. - sumsq  + u2 - ul)\n",
    "    feq[4, :, :] = w1*(1. - sumsq  + v2 - vl)\n",
    "    feq[5, :, :] = w2*(1. + sumsq2 + ul + vl + uv)\n",
    "    feq[6, :, :] = w2*(1. + sumsq2 - ul + vl - uv)\n",
    "    feq[7, :, :] = w2*(1. + sumsq2 - ul - vl + uv)\n",
    "    feq[8, :, :] = w2*(1. + sumsq2 + ul - vl - uv)"
   ]
  },
  {
   "cell_type": "code",
   "execution_count": 81,
   "metadata": {
    "collapsed": true
   },
   "outputs": [],
   "source": [
    "update_feq()"
   ]
  },
  {
   "cell_type": "markdown",
   "metadata": {
    "collapsed": true
   },
   "source": [
    "Ok, we now have to initialize the populations. Close to the equilibrium states."
   ]
  },
  {
   "cell_type": "code",
   "execution_count": 82,
   "metadata": {
    "collapsed": false
   },
   "outputs": [],
   "source": [
    "f = feq.copy()\n",
    "# We now slightly perturb f\n",
    "amplitude = .01\n",
    "perturb = (1. + amplitude*np.random.randn(nx, ny))\n",
    "f *= perturb"
   ]
  },
  {
   "cell_type": "markdown",
   "metadata": {},
   "source": [
    "We have initialized feq and f, as well as the hydrodynamic variables. We now move. We have to deal with the boundary conditions as well as the non-boundary conditions. If we want to be smart, we probably have to avoid rolling, and write our own stuff...but we'll see."
   ]
  },
  {
   "cell_type": "code",
   "execution_count": 83,
   "metadata": {
    "collapsed": true
   },
   "outputs": [],
   "source": [
    "def move_bcs():\n",
    "    # West inlet: periodic BC's\n",
    "    for j in range(1,ly):\n",
    "        f[1,0,j] = f[1,lx,j]\n",
    "        f[5,0,j] = f[5,lx,j]\n",
    "        f[8,0,j] = f[8,lx,j]\n",
    "    # EAST outlet\n",
    "    for j in range(1,ly):\n",
    "        f[3,lx,j] = f[3,0,j]\n",
    "        f[6,lx,j] = f[6,0,j]\n",
    "        f[7,lx,j] = f[7,0,j]\n",
    "    # NORTH solid\n",
    "    for i in range(1, lx): # Bounce back\n",
    "        f[4,i,ly] = f[2,i,ly-1]\n",
    "        f[8,i,ly] = f[6,i+1,ly-1]\n",
    "        f[7,i,ly] = f[5,i-1,ly-1]\n",
    "    # SOUTH solid\n",
    "    for i in range(1, lx):\n",
    "        f[2,i,0] = f[4,i,1]\n",
    "        f[6,i,0] = f[8,i-1,1]\n",
    "        f[5,i,0] = f[7,i+1,1]\n",
    "        \n",
    "    # Corners bounce-back\n",
    "    f[8,0,ly] = f[6,1,ly-1]\n",
    "    f[5,0,0]  = f[7,1,1]\n",
    "    f[7,lx,ly] = f[5,lx-1,ly-1]\n",
    "    f[6,lx,0]  = f[8,lx-1,1]"
   ]
  },
  {
   "cell_type": "code",
   "execution_count": 84,
   "metadata": {
    "collapsed": false
   },
   "outputs": [],
   "source": [
    "def move():\n",
    "    for j in range(ly,0,-1): # Up, up-left\n",
    "        for i in range(0, lx):\n",
    "            f[2,i,j] = f[2,i,j-1]\n",
    "            f[6,i,j] = f[6,i+1,j-1]\n",
    "    for j in range(ly,0,-1): # Right, up-right\n",
    "        for i in range(lx,0,-1):\n",
    "            f[1,i,j] = f[1,i-1,j]\n",
    "            f[5,i,j] = f[5,i-1,j-1]\n",
    "    for j in range(0,ly): # Down, right-down\n",
    "        for i in range(lx,0,-1):\n",
    "            f[4,i,j] = f[4,i,j+1]\n",
    "            f[8,i,j] = f[8,i-1,j+1]\n",
    "    for j in range(0,ly): # Left, left-down\n",
    "        for i in range(0, lx):\n",
    "            f[3,i,j] = f[3,i+1,j]\n",
    "            f[7,i,j] = f[7,i+1,j+1]"
   ]
  },
  {
   "cell_type": "code",
   "execution_count": 87,
   "metadata": {
    "collapsed": true
   },
   "outputs": [],
   "source": [
    "move()"
   ]
  },
  {
   "cell_type": "code",
   "execution_count": null,
   "metadata": {
    "collapsed": true
   },
   "outputs": [],
   "source": []
  }
 ],
 "metadata": {
  "kernelspec": {
   "display_name": "Python 2",
   "language": "python",
   "name": "python2"
  },
  "language_info": {
   "codemirror_mode": {
    "name": "ipython",
    "version": 2
   },
   "file_extension": ".py",
   "mimetype": "text/x-python",
   "name": "python",
   "nbconvert_exporter": "python",
   "pygments_lexer": "ipython2",
   "version": "2.7.10"
  }
 },
 "nbformat": 4,
 "nbformat_minor": 0
}
