{
 "cells": [
  {
   "cell_type": "code",
   "execution_count": 1,
   "metadata": {
    "collapsed": false
   },
   "outputs": [
    {
     "name": "stdout",
     "output_type": "stream",
     "text": [
      "Populating the interactive namespace from numpy and matplotlib\n"
     ]
    }
   ],
   "source": [
    "%pylab inline"
   ]
  },
  {
   "cell_type": "code",
   "execution_count": 2,
   "metadata": {
    "collapsed": true
   },
   "outputs": [],
   "source": [
    "import seaborn as sns"
   ]
  },
  {
   "cell_type": "code",
   "execution_count": 3,
   "metadata": {
    "collapsed": true
   },
   "outputs": [],
   "source": [
    "sns.set_context('poster', font_scale=1.25)"
   ]
  },
  {
   "cell_type": "code",
   "execution_count": 4,
   "metadata": {
    "collapsed": false
   },
   "outputs": [],
   "source": [
    "w=np.array([4./9.,1./9.,1./9.,1./9.,1./9.,1./36.,    \n",
    "            1./36.,1./36.,1./36.]) # weights for directions\n",
    "cx=np.array([0,1,0,-1,0,1,-1,-1,1]) # direction vector for the x direction\n",
    "cy=np.array([0,0,1,0,-1,1,1,-1,-1]) # direction vector for the y direction\n",
    "tau=1\n",
    "cs=1/math.sqrt(3)\n",
    "cs2 = cs**2\n",
    "cs22 = 2*cs2\n",
    "cssq = 2.0/9.0\n",
    "\n",
    "w0 = 4./9.\n",
    "w1 = 1./9.\n",
    "w2 = 1./36."
   ]
  },
  {
   "cell_type": "code",
   "execution_count": 5,
   "metadata": {
    "collapsed": false
   },
   "outputs": [
    {
     "name": "stdout",
     "output_type": "stream",
     "text": [
      "Viscosity is: 0.166666666667\n"
     ]
    }
   ],
   "source": [
    "viscosity = cs**2*(tau-0.5)\n",
    "print 'Viscosity is:' , viscosity"
   ]
  },
  {
   "cell_type": "code",
   "execution_count": 6,
   "metadata": {
    "collapsed": true
   },
   "outputs": [],
   "source": [
    "lx=400  # length of domain in the x direction\n",
    "ly=400  # length of domain in the y direction"
   ]
  },
  {
   "cell_type": "markdown",
   "metadata": {},
   "source": [
    "We know that\n",
    "\n",
    "$\\nu = \\frac{\\Delta x^2}{3 \\Delta t}(w - \\frac{1}{2})$\n",
    "\n",
    "from my engineering book, or\n",
    "\n",
    "$\\nu = c_s^2(\\tau-\\frac{1}{2})=c_s^2(\\frac{1}{w}-\\frac{1}{2})$"
   ]
  },
  {
   "cell_type": "markdown",
   "metadata": {},
   "source": [
    "We begin by calculating macrosocpic quantities. The initial conditions. Let's make constant density everywhere of one."
   ]
  },
  {
   "cell_type": "code",
   "execution_count": 7,
   "metadata": {
    "collapsed": false
   },
   "outputs": [],
   "source": [
    "rho = np.ones((lx, ly))\n",
    "u_applied=cs/100\n",
    "u = u_applied*(np.ones((lx, ly)) + np.random.randn(lx,ly))\n",
    "v= (u_applied/100.)*(np.ones((lx, ly)) + np.random.randn(lx,ly)) # initializing the vertical velocities"
   ]
  },
  {
   "cell_type": "code",
   "execution_count": 8,
   "metadata": {
    "collapsed": true
   },
   "outputs": [],
   "source": [
    "f=np.zeros((9,lx,ly)) # initializing f\n",
    "feq = np.zeros((9, lx, ly))"
   ]
  },
  {
   "cell_type": "markdown",
   "metadata": {},
   "source": [
    "We know that $\\sum_i w_i f_i = \\rho$, so"
   ]
  },
  {
   "cell_type": "markdown",
   "metadata": {},
   "source": [
    "Let's just do this ourselves. Ok, so we have f0. We now need to stream and update the density array. "
   ]
  },
  {
   "cell_type": "code",
   "execution_count": 9,
   "metadata": {
    "collapsed": false
   },
   "outputs": [],
   "source": [
    "# Taken from sauro succi's code. This will be super easy to put on the GPU.\n",
    "ul = u/cs2\n",
    "vl = v/cs2\n",
    "uv = ul*vl\n",
    "usq = u*u\n",
    "vsq = v*v\n",
    "sumsq  = (usq+vsq)/cs22\n",
    "sumsq2 = sumsq*(1.-cs2)/cs2\n",
    "u2 = usq/cssq \n",
    "v2 = vsq/cssq\n",
    "\n",
    "feq[0, :, :] = w0*(1. - sumsq)\n",
    "\n",
    "feq[1, :, :] = w1*(1. - sumsq  + u2 + ul)\n",
    "feq[2, :, :] = w1*(1. - sumsq  + v2 + vl)\n",
    "feq[3, :, :] = w1*(1. - sumsq  + u2 - ul)\n",
    "feq[4, :, :] = w1*(1. - sumsq  + v2 - vl)\n",
    "feq[5, :, :] = w2*(1. + sumsq2 + ul + vl + uv)\n",
    "feq[6, :, :] = w2*(1. + sumsq2 - ul + vl - uv)\n",
    "feq[7, :, :] = w2*(1. + sumsq2 - ul - vl + uv)\n",
    "feq[8, :, :] = w2*(1. + sumsq2 + ul - vl - uv)"
   ]
  },
  {
   "cell_type": "markdown",
   "metadata": {
    "collapsed": true
   },
   "source": [
    "Ok, we now have to initialize the populations. Close to the equilibrium states."
   ]
  },
  {
   "cell_type": "code",
   "execution_count": 23,
   "metadata": {
    "collapsed": false
   },
   "outputs": [],
   "source": [
    "f = feq.copy()\n",
    "# We now slightly perturb f\n",
    "amplitude = .01\n",
    "perturb = (1. + amplitude*np.random.randn(lx, ly))\n",
    "f *= perturb"
   ]
  },
  {
   "cell_type": "markdown",
   "metadata": {},
   "source": [
    "We have initialized feq and f, as well as the hydrodynamic variables. We now move. We have to deal with the boundary conditions as well as the non-boundary conditions. If we want to be smart, we probably have to avoid rolling, and write our own stuff...but we'll see."
   ]
  },
  {
   "cell_type": "code",
   "execution_count": 26,
   "metadata": {
    "collapsed": false
   },
   "outputs": [
    {
     "ename": "TypeError",
     "evalue": "tuple indices must be integers, not list",
     "output_type": "error",
     "traceback": [
      "\u001b[1;31m---------------------------------------------------------------------------\u001b[0m",
      "\u001b[1;31mTypeError\u001b[0m                                 Traceback (most recent call last)",
      "\u001b[1;32m<ipython-input-26-e89c58a14c71>\u001b[0m in \u001b[0;36m<module>\u001b[1;34m()\u001b[0m\n\u001b[0;32m      1\u001b[0m \u001b[1;32mfor\u001b[0m \u001b[0mindex\u001b[0m \u001b[1;32min\u001b[0m \u001b[0mrange\u001b[0m\u001b[1;33m(\u001b[0m\u001b[0mf\u001b[0m\u001b[1;33m.\u001b[0m\u001b[0mshape\u001b[0m\u001b[1;33m[\u001b[0m\u001b[1;36m0\u001b[0m\u001b[1;33m]\u001b[0m\u001b[1;33m)\u001b[0m\u001b[1;33m:\u001b[0m\u001b[1;33m\u001b[0m\u001b[0m\n\u001b[0;32m      2\u001b[0m     \u001b[0mcur_f\u001b[0m \u001b[1;33m=\u001b[0m \u001b[0mf\u001b[0m\u001b[1;33m[\u001b[0m\u001b[0mindex\u001b[0m\u001b[1;33m]\u001b[0m\u001b[1;33m\u001b[0m\u001b[0m\n\u001b[1;32m----> 3\u001b[1;33m     \u001b[0mnp\u001b[0m\u001b[1;33m.\u001b[0m\u001b[0mroll\u001b[0m\u001b[1;33m(\u001b[0m\u001b[0mcur_f\u001b[0m\u001b[1;33m,\u001b[0m \u001b[1;33m[\u001b[0m\u001b[1;36m1\u001b[0m\u001b[1;33m,\u001b[0m \u001b[1;36m1\u001b[0m\u001b[1;33m]\u001b[0m\u001b[1;33m,\u001b[0m \u001b[0maxis\u001b[0m\u001b[1;33m=\u001b[0m\u001b[1;33m[\u001b[0m\u001b[1;36m1\u001b[0m\u001b[1;33m,\u001b[0m \u001b[1;36m1\u001b[0m\u001b[1;33m]\u001b[0m\u001b[1;33m)\u001b[0m\u001b[1;33m\u001b[0m\u001b[0m\n\u001b[0m",
      "\u001b[1;32m/home/bryan/anaconda/lib/python2.7/site-packages/numpy/core/numeric.pyc\u001b[0m in \u001b[0;36mroll\u001b[1;34m(a, shift, axis)\u001b[0m\n\u001b[0;32m   1376\u001b[0m     \u001b[1;32melse\u001b[0m\u001b[1;33m:\u001b[0m\u001b[1;33m\u001b[0m\u001b[0m\n\u001b[0;32m   1377\u001b[0m         \u001b[1;32mtry\u001b[0m\u001b[1;33m:\u001b[0m\u001b[1;33m\u001b[0m\u001b[0m\n\u001b[1;32m-> 1378\u001b[1;33m             \u001b[0mn\u001b[0m \u001b[1;33m=\u001b[0m \u001b[0ma\u001b[0m\u001b[1;33m.\u001b[0m\u001b[0mshape\u001b[0m\u001b[1;33m[\u001b[0m\u001b[0maxis\u001b[0m\u001b[1;33m]\u001b[0m\u001b[1;33m\u001b[0m\u001b[0m\n\u001b[0m\u001b[0;32m   1379\u001b[0m         \u001b[1;32mexcept\u001b[0m \u001b[0mIndexError\u001b[0m\u001b[1;33m:\u001b[0m\u001b[1;33m\u001b[0m\u001b[0m\n\u001b[0;32m   1380\u001b[0m             \u001b[1;32mraise\u001b[0m \u001b[0mValueError\u001b[0m\u001b[1;33m(\u001b[0m\u001b[1;34m'axis must be >= 0 and < %d'\u001b[0m \u001b[1;33m%\u001b[0m \u001b[0ma\u001b[0m\u001b[1;33m.\u001b[0m\u001b[0mndim\u001b[0m\u001b[1;33m)\u001b[0m\u001b[1;33m\u001b[0m\u001b[0m\n",
      "\u001b[1;31mTypeError\u001b[0m: tuple indices must be integers, not list"
     ]
    }
   ],
   "source": [
    "for index in range(f.shape[0]):\n",
    "    cur_f = f[index]"
   ]
  },
  {
   "cell_type": "code",
   "execution_count": null,
   "metadata": {
    "collapsed": true
   },
   "outputs": [],
   "source": []
  }
 ],
 "metadata": {
  "kernelspec": {
   "display_name": "Python 2",
   "language": "python",
   "name": "python2"
  },
  "language_info": {
   "codemirror_mode": {
    "name": "ipython",
    "version": 2
   },
   "file_extension": ".py",
   "mimetype": "text/x-python",
   "name": "python",
   "nbconvert_exporter": "python",
   "pygments_lexer": "ipython2",
   "version": "2.7.10"
  }
 },
 "nbformat": 4,
 "nbformat_minor": 0
}
